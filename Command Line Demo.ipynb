{
 "metadata": {
  "name": "",
  "signature": "sha256:6cf257f44568ee9ffbdcd690881700f54d7b3728e6148a92ae40a2ad8355e55f"
 },
 "nbformat": 3,
 "nbformat_minor": 0,
 "worksheets": [
  {
   "cells": [
    {
     "cell_type": "markdown",
     "metadata": {},
     "source": [
      "# IPython Command Line examples\n",
      "\n",
      "IPython can be used to work with the system it's running on in pretty creative ways.\n",
      "\n",
      "* `!command`: run (and capture output) of a command\n",
      "* `$` variables"
     ]
    },
    {
     "cell_type": "code",
     "collapsed": false,
     "input": [
      "files = !ls -1\n",
      "for file in files.grep('ipynb'):\n",
      "    !echo $file"
     ],
     "language": "python",
     "metadata": {},
     "outputs": []
    },
    {
     "cell_type": "markdown",
     "metadata": {},
     "source": [
      "There are also some interesting 'magics' for working on shells, for example if you want to run some bash-specific code:"
     ]
    },
    {
     "cell_type": "code",
     "collapsed": false,
     "input": [
      "%%bash\n",
      "\n",
      "echo \"Running under $BASH\"\n",
      "echo \"Only Bash could do this...\"\n",
      "echo {a,b,c}{d,e,f}"
     ],
     "language": "python",
     "metadata": {},
     "outputs": []
    },
    {
     "cell_type": "markdown",
     "metadata": {},
     "source": [
      "Or even ``perl``:"
     ]
    },
    {
     "cell_type": "code",
     "collapsed": false,
     "input": [
      "%%perl\n",
      "\n",
      "use DateTime;\n",
      "\n",
      "print \"The first of next month: \";\n",
      "print DateTime->today()->add(months => 1)->set(day => 1)->ymd;"
     ],
     "language": "python",
     "metadata": {},
     "outputs": []
    },
    {
     "cell_type": "markdown",
     "metadata": {},
     "source": [
      "## Runbooks\n",
      "\n",
      "The basic capabilities of\n",
      "* Running commands\n",
      "* Displaying output\n",
      "* Being able to put comments around things\n",
      "\n",
      "makes IPython Notebook great for quickly documenting \"devops\" processes.\n",
      "\n",
      "For example, anything you can run via ssh you can quickly demonstrate, like finding the top recent account numbers referenced in one of our system logs:"
     ]
    },
    {
     "cell_type": "code",
     "collapsed": false,
     "input": [
      "!ssh ho \"sudo head -2000 /var/log/mediatemple.log | awk '{print \\$29}' | grep '[0-9]' | sort | uniq -c | sort -rn | head -10\""
     ],
     "language": "python",
     "metadata": {},
     "outputs": [
      {
       "output_type": "stream",
       "stream": "stdout",
       "text": [
        "    180 60\r\n",
        "     42 253084\r\n",
        "     24 77458\r\n",
        "     23 70\r\n",
        "     18 65\r\n",
        "     16 80\r\n",
        "     16 152904\r\n",
        "     15 258882\r\n",
        "     14 252005\r\n",
        "     12 84480\r\n"
       ]
      }
     ],
     "prompt_number": 11
    },
    {
     "cell_type": "markdown",
     "metadata": {},
     "source": [
      "Even in a more analytics space than 'runbooks', that particular capability is useful.\n",
      "\n",
      "Or, showing off a fabric task:"
     ]
    },
    {
     "cell_type": "code",
     "collapsed": false,
     "input": [
      "!fab share:'Command Line Demo.ipynb'"
     ],
     "language": "python",
     "metadata": {},
     "outputs": []
    },
    {
     "cell_type": "markdown",
     "metadata": {},
     "source": [
      "----\n"
     ]
    },
    {
     "cell_type": "markdown",
     "metadata": {},
     "source": [
      "<blink>awesome idea</blink>"
     ]
    },
    {
     "cell_type": "code",
     "collapsed": false,
     "input": [],
     "language": "python",
     "metadata": {},
     "outputs": []
    }
   ],
   "metadata": {}
  }
 ]
}