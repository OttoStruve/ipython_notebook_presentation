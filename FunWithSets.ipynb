{
 "metadata": {
  "name": "",
  "signature": "sha256:a84f6e71870e23fdeac6a36cbcc210681f056b5598e6dc24d8f90a3edd4ad544"
 },
 "nbformat": 3,
 "nbformat_minor": 0,
 "worksheets": [
  {
   "cells": [
    {
     "cell_type": "markdown",
     "metadata": {},
     "source": [
      "# Demoing language features\n",
      "\n",
      "The great thing is that now the person you share this notebook with can easily tweak and play with the examples you send them.\n",
      "You've created a little sandbox.\n",
      "\n",
      "## Sets\n",
      "\n",
      "Sets are a powerful feature of python that many people coming from other languages aren't aware of. They are much more efficient than dictionaries/hashes when you're just trying to keep track of if you've seen an item or not, and not track any values with them."
     ]
    },
    {
     "cell_type": "code",
     "collapsed": false,
     "input": [
      "set1 = {'peter', 'peter', 'paul', 'mary'}\n",
      "set2 = {'dave', 'amanda', 'kelly', 'paul'}\n",
      "set3 = {'orange', 'black', 'red', 'blue'}\n",
      "print \"union: \" + str(set1.union(set2))\n",
      "print \"intersection: \" + str(set1.intersection(set2))\n",
      "print \"difference: \" + str(set1.difference(set2))\n",
      "print \"isdisjoint set1/set2: \" + str(set1.isdisjoint(set2))\n",
      "print \"isdisjoint set1/set3: \" + str(set1.isdisjoint(set3))\n",
      "print \"issubset: \" + str(set1.issubset(set2))\n",
      "print \"issuperset: \" + str(set1.issuperset(set2))"
     ],
     "language": "python",
     "metadata": {},
     "outputs": []
    },
    {
     "cell_type": "markdown",
     "metadata": {},
     "source": [
      "You can use these operations on dictionaries if you need to find areas where they are similar and different, for example:"
     ]
    },
    {
     "cell_type": "code",
     "collapsed": false,
     "input": [
      "dict1 = { 'tom': 'jones', 'stewart': 'copeland', 'marty': 'mcfly'}\n",
      "dict2 = { 'tom': 'sellek', 'sasha': 'baron cohen'}\n",
      "\n",
      "for key in set(dict1.keys()).difference(dict2.keys()):\n",
      "    print \"'{}': '{}' did not appear in dict2\".format(key, dict1[key])"
     ],
     "language": "python",
     "metadata": {},
     "outputs": []
    },
    {
     "cell_type": "markdown",
     "metadata": {},
     "source": [
      "# Tests are good for mentorship\n",
      "\n",
      "Using the ``ipython_doctester`` extension, you can actually write small tests right inline in the code.\n",
      "This can also be useful for making your notebooks 'auditable', showing inline the test cases used to check a conversion method."
     ]
    },
    {
     "cell_type": "code",
     "collapsed": false,
     "input": [
      "from ipython_doctester import test\n",
      "\n",
      "\n",
      "@test\n",
      "def square(x):\n",
      "    '''\n",
      "    >>> square(2)\n",
      "    4\n",
      "    >>> square(3)\n",
      "    9\n",
      "    \n",
      "    # intentionally show a failing test\n",
      "    >>> square(4)\n",
      "    17\n",
      "    '''\n",
      "    return x ** 2"
     ],
     "language": "python",
     "metadata": {},
     "outputs": []
    },
    {
     "cell_type": "code",
     "collapsed": false,
     "input": [],
     "language": "python",
     "metadata": {},
     "outputs": []
    }
   ],
   "metadata": {}
  }
 ]
}