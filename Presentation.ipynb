{
 "metadata": {
  "celltoolbar": "Slideshow",
  "name": "",
  "signature": "sha256:60d14b3826a9f291918d32414776d7c233a0df2df49656d7efb6ac3f5b0f8319"
 },
 "nbformat": 3,
 "nbformat_minor": 0,
 "worksheets": [
  {
   "cells": [
    {
     "cell_type": "markdown",
     "metadata": {
      "slideshow": {
       "slide_type": "slide"
      }
     },
     "source": [
      "<div class=\"stretch\"><img src=\"PresentationImages/CoverArt.jpg\"/></div>\n"
     ]
    },
    {
     "cell_type": "markdown",
     "metadata": {
      "slideshow": {
       "slide_type": "skip"
      }
     },
     "source": [
      "# Outline\n",
      "\n",
      "* What is the notebook \n",
      "    * OMG it's the best\n",
      "    * Quick Demo\n",
      "    * IPython Ecosystem (2.0 Caveat)\n",
      "* Why is it awesome\n",
      "    * Literate Code\n",
      "    * Sharing\n",
      "    * Rapid Prototyping/Exploring/Learning\n",
      "        * ``Terminal(Editor <-> Renderer) -> Email`` vs Cyclic\n",
      "    * Blogging\n",
      "* Workflows (edit, share, publish)\n",
      "    * Under the hood ``ipynb``\n",
      "    * HTML\n",
      "    * PDF\n",
      "    * Gist + nbviewer\n",
      "* Demos\n",
      "    * Code Mentorship (sets, objects, katas)\n",
      "    * Runbooks\n",
      "    * Log analysis [epic](http://nbviewer.ipython.org/github/koldunovn/nk_public_notebooks/blob/master/Apache_log.ipynb)\n",
      "    * Shell scripting demo\n",
      "    * Churn analysis\n",
      "    * [Latency Heatmap](http://www.brendangregg.com/HeatMaps/latency.html)\n",
      "* Extending\n",
      "    * [Extensions](https://github.com/ipython-contrib/IPython-notebook-extensions/wiki)\n",
      "* It came from inside the presentation!"
     ]
    },
    {
     "cell_type": "markdown",
     "metadata": {
      "slideshow": {
       "slide_type": "slide"
      }
     },
     "source": [
      "# What is the notebook?\n",
      "\n",
      "## A \"browser-based interactive computing environment\" \n",
      "\n",
      "<div class=\"stretch\"><img src=\"PresentationImages/NotebookScreenshot.png\"/></div>"
     ]
    },
    {
     "cell_type": "markdown",
     "metadata": {
      "slideshow": {
       "slide_type": "slide"
      }
     },
     "source": [
      "# Why are we talking about it today?\n",
      "\n",
      "* Extremely useful tool, but not well enough known outside Academia/Science.\n",
      "* Makes the (powerful) python data/science/module ecosystem even more powerful\n",
      "* If you code, (even not in python), sysadmin, write documentation, blog, do any analysis or visualization, you might get a lot out of the notebook."
     ]
    },
    {
     "cell_type": "markdown",
     "metadata": {
      "slideshow": {
       "slide_type": "slide"
      }
     },
     "source": [
      "# Why are *you* talking about it today?\n",
      "\n",
      "#### I fell in love.\n",
      "\n",
      "<div class=\"stretch\"><img src=\"PresentationImages/LoveTheNotebook.png\"/></div>\n",
      "\n",
      "<small><em>Apologies to my beautiful baby daughter for photoshopping her out</em></small>"
     ]
    },
    {
     "cell_type": "markdown",
     "metadata": {
      "slideshow": {
       "slide_type": "slide"
      }
     },
     "source": [
      "# Why It's Great\n",
      "\n",
      "These attributes will come up over and over as we explore this tool.\n",
      "\n",
      "<div class=\"stretch\"><img src=\"PresentationImages/LIVI.png\"/></div>"
     ]
    },
    {
     "cell_type": "markdown",
     "metadata": {
      "slideshow": {
       "slide_type": "slide"
      }
     },
     "source": [
      "# \"Literate\"\n",
      "\n",
      "The other attributes will be clear, but a word on Literate (apologies to Knuth for the oversimplification)\n",
      "\n",
      "<div class=\"stretch\"><img src=\"PresentationImages/Literate.png\"/></div>\n",
      "\n",
      "This is a big part of where the title comes from: it's about the story more than the software. (Because of inline output, Notebook may even be 'SuperLiterate'.)"
     ]
    },
    {
     "cell_type": "markdown",
     "metadata": {
      "slideshow": {
       "slide_type": "slide"
      }
     },
     "source": [
      "# Enough Meta: Let's Install It.\n",
      "\n",
      "<div class=\"stretch\"><img src=\"PresentationImages/01_Install.png\"/></div>\n",
      "\n",
      "`pip install ipython[all]`? That was easy.\\*\n",
      "\n",
      "    *Dependencies can be painful, YMMV."
     ]
    },
    {
     "cell_type": "markdown",
     "metadata": {
      "slideshow": {
       "slide_type": "skip"
      }
     },
     "source": [
      "# Run 'ipython notebook'\n",
      "\n",
      "<div class=\"stretch\"><img src=\"PresentationImages/03_Process.png\"/></div>"
     ]
    },
    {
     "cell_type": "markdown",
     "metadata": {
      "slideshow": {
       "slide_type": "skip"
      }
     },
     "source": [
      "# Browser Launches\n",
      "\n",
      "<div class=\"stretch\"><img src=\"PresentationImages/04_Tree.png\"/></div>"
     ]
    },
    {
     "cell_type": "markdown",
     "metadata": {
      "slideshow": {
       "slide_type": "slide"
      }
     },
     "source": [
      "# Build a notebook\n",
      "\n",
      "<div class=\"stretch\"><img src=\"PresentationImages/05_Notebook.png\"/></div>\n",
      "\n",
      "(Actually, it's a process per open notebook.)"
     ]
    },
    {
     "cell_type": "markdown",
     "metadata": {
      "slideshow": {
       "slide_type": "slide"
      }
     },
     "source": [
      "# Run A Cell\n",
      "\n",
      "<div class=\"stretch\"><img src=\"PresentationImages/07_Websocket.png\"/></div>"
     ]
    },
    {
     "cell_type": "markdown",
     "metadata": {
      "slideshow": {
       "slide_type": "slide"
      }
     },
     "source": [
      "# No Need To Be Local...\n",
      "\n",
      "<div class=\"stretch\"><img src=\"PresentationImages/06_ToTheCloud.png\"/></div>"
     ]
    },
    {
     "cell_type": "markdown",
     "metadata": {
      "slideshow": {
       "slide_type": "slide"
      }
     },
     "source": [
      "# Demo Time\n",
      "\n",
      "<a href=\"http://127.0.0.1:8888/notebooks/Quick%20Demo.ipynb\"><div class=\"stretch\"><img src=\"PresentationImages/doitlive.jpg\"/></div></a>"
     ]
    },
    {
     "cell_type": "markdown",
     "metadata": {
      "slideshow": {
       "slide_type": "slide"
      }
     },
     "source": [
      "# Notebook Workflows: The Big Picture\n",
      "\n",
      "<div class=\"stretch\"><img src=\"PresentationImages/IPynbWorkflows.png\"/></div>\n",
      "\n",
      "<small>Not covered today but cool; clustering capabilities</small>"
     ]
    },
    {
     "cell_type": "markdown",
     "metadata": {
      "slideshow": {
       "slide_type": "slide"
      }
     },
     "source": [
      "# How I Fell: Report Workflow v1\n",
      "\n",
      "<div class=\"stretch\"><img src=\"PresentationImages/original_report_flow.png\"/></div>\n",
      "\n",
      "Problems: \n",
      "\n",
      "* slow (read whole data file each time, lots of context switching)\n",
      "* version controlled analysis, but not commentary, difficult to 'go back to'\n",
      "* Automating requires non-trivial additional dev\n",
      "\n"
     ]
    },
    {
     "cell_type": "markdown",
     "metadata": {
      "slideshow": {
       "slide_type": "slide"
      }
     },
     "source": [
      "# Report Workflow ``now()``\n",
      "\n",
      "Speedups primarily from no context switching, interactivity, and reusable data loading.\n",
      "\n",
      "<img style=\"float:left;\" src=\"PresentationImages/now_report_flow.png\"/>\n",
      "<img style=\"float:right;\" src=\"PresentationImages/iteration_diffs.png\"/>\n",
      "\n",
      "Reproducible, literate, annotatable, *auditable*.\n"
     ]
    },
    {
     "cell_type": "markdown",
     "metadata": {
      "slideshow": {
       "slide_type": "slide"
      }
     },
     "source": [
      "# Iterative Coding Example\n",
      "\n",
      "\"What are the most popular links being tweeted about #oscon?\"\n",
      "\n",
      "<div class=\"stretch\"><img src=\"PresentationImages/OSCON_Tweets.png\"/></div>"
     ]
    },
    {
     "cell_type": "markdown",
     "metadata": {
      "slideshow": {
       "slide_type": "slide"
      }
     },
     "source": [
      "### Let's start here\n",
      "\n",
      "This (very solid) book is written largely with Notebook, and you can download the `.ipynb` files!\n",
      "\n",
      "<a href=\"http://shop.oreilly.com/product/0636920030195.do\"><div class=\"stretch\"><img src=\"PresentationImages/MiningSocialWeb.jpg\"/></div></a>"
     ]
    },
    {
     "cell_type": "markdown",
     "metadata": {
      "slideshow": {
       "slide_type": "slide"
      }
     },
     "source": [
      "# Interactive Example: Sign in"
     ]
    },
    {
     "cell_type": "code",
     "collapsed": false,
     "input": [
      "import json\n",
      "import twitter\n",
      "\n",
      "creds = json.load(open('/Users/jbarratt/.twitter.json'))\n",
      "auth = twitter.oauth.OAuth(creds['access_token'], \n",
      "                           creds['access_token_secret'],\n",
      "                           creds['api_key'], \n",
      "                           creds['api_secret'])\n",
      "twitter_api = twitter.Twitter(auth=auth)"
     ],
     "language": "python",
     "metadata": {
      "slideshow": {
       "slide_type": "-"
      }
     },
     "outputs": [],
     "prompt_number": 56
    },
    {
     "cell_type": "markdown",
     "metadata": {
      "slideshow": {
       "slide_type": "slide"
      }
     },
     "source": [
      "# Interactive Example: Search for '#oscon'"
     ]
    },
    {
     "cell_type": "code",
     "collapsed": false,
     "input": [
      "search_results = twitter_api.search.tweets(q='#oscon', count=5000)\n",
      "statuses = search_results['statuses']\n",
      "\n",
      "print len(statuses)\n",
      "\n",
      "# Original source for this loop:\n",
      "# http://nbviewer.ipython.org/github/ptwobrussell/Mining-the-Social-Web-2nd-Edition/blob/master/ipynb/Chapter%201%20-%20Mining%20Twitter.ipynb\n",
      "\n",
      "for _ in range(500):\n",
      "    try:\n",
      "        next_results = search_results['search_metadata']['next_results']\n",
      "    except KeyError, e: # No more results when next_results doesn't exist\n",
      "        break\n",
      "    \n",
      "    kwargs = dict([ kv.split('=') for kv in next_results[1:].split(\"&\") ])\n",
      "    \n",
      "    search_results = twitter_api.search.tweets(**kwargs)\n",
      "    statuses += search_results['statuses']"
     ],
     "language": "python",
     "metadata": {
      "slideshow": {
       "slide_type": "-"
      }
     },
     "outputs": [
      {
       "output_type": "stream",
       "stream": "stdout",
       "text": [
        "100\n"
       ]
      }
     ],
     "prompt_number": 59
    },
    {
     "cell_type": "code",
     "collapsed": false,
     "input": [
      "print len(statuses)"
     ],
     "language": "python",
     "metadata": {},
     "outputs": [
      {
       "output_type": "stream",
       "stream": "stdout",
       "text": [
        "200\n"
       ]
      }
     ],
     "prompt_number": 60
    },
    {
     "cell_type": "markdown",
     "metadata": {},
     "source": [
      "# Useful things to note\n",
      "\n",
      "* Now we have a `statuses` list that's stored in our kernel. No hitting twitter rate limits.\n",
      "* I got that code from the mining the social web book, but I have no idea what to do next. We can explore."
     ]
    },
    {
     "cell_type": "markdown",
     "metadata": {
      "slideshow": {
       "slide_type": "slide"
      }
     },
     "source": [
      "# Interactive Example: Inspect Results"
     ]
    },
    {
     "cell_type": "code",
     "collapsed": false,
     "input": [
      "# We know the results are in 'statuses', let's peek at one.\n",
      "print json.dumps(statuses[2], indent=1)"
     ],
     "language": "python",
     "metadata": {
      "slideshow": {
       "slide_type": "-"
      }
     },
     "outputs": [
      {
       "output_type": "stream",
       "stream": "stdout",
       "text": [
        "{\n",
        " \"contributors\": null, \n",
        " \"truncated\": false, \n",
        " \"text\": \"RT @timoreilly: Slides from my talk at #OSCON this morning: http://t.co/cO7YdrGLdY \\\"We should get working on our real civilization now.\\\"\", \n",
        " \"in_reply_to_status_id\": null, \n",
        " \"id\": 492004369723035648, \n",
        " \"favorite_count\": 0, \n",
        " \"source\": \"<a href=\\\"http://twitter.com\\\" rel=\\\"nofollow\\\">Twitter Web Client</a>\", \n",
        " \"retweeted\": false, \n",
        " \"coordinates\": null, \n",
        " \"entities\": {\n",
        "  \"symbols\": [], \n",
        "  \"user_mentions\": [\n",
        "   {\n",
        "    \"id\": 2384071, \n",
        "    \"indices\": [\n",
        "     3, \n",
        "     14\n",
        "    ], \n",
        "    \"id_str\": \"2384071\", \n",
        "    \"screen_name\": \"timoreilly\", \n",
        "    \"name\": \"Tim O'Reilly\"\n",
        "   }\n",
        "  ], \n",
        "  \"hashtags\": [\n",
        "   {\n",
        "    \"indices\": [\n",
        "     39, \n",
        "     45\n",
        "    ], \n",
        "    \"text\": \"OSCON\"\n",
        "   }\n",
        "  ], \n",
        "  \"urls\": [\n",
        "   {\n",
        "    \"url\": \"http://t.co/cO7YdrGLdY\", \n",
        "    \"indices\": [\n",
        "     60, \n",
        "     82\n",
        "    ], \n",
        "    \"expanded_url\": \"http://slidesha.re/1ocu4p6\", \n",
        "    \"display_url\": \"slidesha.re/1ocu4p6\"\n",
        "   }\n",
        "  ]\n",
        " }, \n",
        " \"in_reply_to_screen_name\": null, \n",
        " \"in_reply_to_user_id\": null, \n",
        " \"retweet_count\": 8, \n",
        " \"id_str\": \"492004369723035648\", \n",
        " \"favorited\": false, \n",
        " \"retweeted_status\": {\n",
        "  \"contributors\": null, \n",
        "  \"truncated\": false, \n",
        "  \"text\": \"Slides from my talk at #OSCON this morning: http://t.co/cO7YdrGLdY \\\"We should get working on our real civilization now.\\\"\", \n",
        "  \"in_reply_to_status_id\": null, \n",
        "  \"id\": 492002326048022529, \n",
        "  \"favorite_count\": 4, \n",
        "  \"source\": \"<a href=\\\"https://about.twitter.com/products/tweetdeck\\\" rel=\\\"nofollow\\\">TweetDeck</a>\", \n",
        "  \"retweeted\": false, \n",
        "  \"coordinates\": null, \n",
        "  \"entities\": {\n",
        "   \"symbols\": [], \n",
        "   \"user_mentions\": [], \n",
        "   \"hashtags\": [\n",
        "    {\n",
        "     \"indices\": [\n",
        "      23, \n",
        "      29\n",
        "     ], \n",
        "     \"text\": \"OSCON\"\n",
        "    }\n",
        "   ], \n",
        "   \"urls\": [\n",
        "    {\n",
        "     \"url\": \"http://t.co/cO7YdrGLdY\", \n",
        "     \"indices\": [\n",
        "      44, \n",
        "      66\n",
        "     ], \n",
        "     \"expanded_url\": \"http://slidesha.re/1ocu4p6\", \n",
        "     \"display_url\": \"slidesha.re/1ocu4p6\"\n",
        "    }\n",
        "   ]\n",
        "  }, \n",
        "  \"in_reply_to_screen_name\": null, \n",
        "  \"in_reply_to_user_id\": null, \n",
        "  \"retweet_count\": 8, \n",
        "  \"id_str\": \"492002326048022529\", \n",
        "  \"favorited\": false, \n",
        "  \"user\": {\n",
        "   \"follow_request_sent\": false, \n",
        "   \"profile_use_background_image\": true, \n",
        "   \"default_profile_image\": false, \n",
        "   \"id\": 2384071, \n",
        "   \"profile_background_image_url_https\": \"https://pbs.twimg.com/profile_background_images/3587880/notes.gif\", \n",
        "   \"verified\": true, \n",
        "   \"profile_text_color\": \"000000\", \n",
        "   \"profile_image_url_https\": \"https://pbs.twimg.com/profile_images/2823681988/f4f6f2bed8ab4d5a48dea4b9ea85d5f1_normal.jpeg\", \n",
        "   \"profile_sidebar_fill_color\": \"E0FF92\", \n",
        "   \"entities\": {\n",
        "    \"url\": {\n",
        "     \"urls\": [\n",
        "      {\n",
        "       \"url\": \"http://t.co/5086iX7oyT\", \n",
        "       \"indices\": [\n",
        "        0, \n",
        "        22\n",
        "       ], \n",
        "       \"expanded_url\": \"http://radar.oreilly.com\", \n",
        "       \"display_url\": \"radar.oreilly.com\"\n",
        "      }\n",
        "     ]\n",
        "    }, \n",
        "    \"description\": {\n",
        "     \"urls\": []\n",
        "    }\n",
        "   }, \n",
        "   \"followers_count\": 1780696, \n",
        "   \"profile_sidebar_border_color\": \"87BC44\", \n",
        "   \"id_str\": \"2384071\", \n",
        "   \"profile_background_color\": \"9AE4E8\", \n",
        "   \"listed_count\": 26884, \n",
        "   \"is_translation_enabled\": false, \n",
        "   \"utc_offset\": -25200, \n",
        "   \"statuses_count\": 30298, \n",
        "   \"description\": \"Founder and CEO, O'Reilly Media. Watching the alpha geeks, sharing their stories, helping the future unfold.\", \n",
        "   \"friends_count\": 1223, \n",
        "   \"location\": \"Sebastopol, CA\", \n",
        "   \"profile_link_color\": \"0000FF\", \n",
        "   \"profile_image_url\": \"http://pbs.twimg.com/profile_images/2823681988/f4f6f2bed8ab4d5a48dea4b9ea85d5f1_normal.jpeg\", \n",
        "   \"following\": true, \n",
        "   \"geo_enabled\": true, \n",
        "   \"profile_background_image_url\": \"http://pbs.twimg.com/profile_background_images/3587880/notes.gif\", \n",
        "   \"screen_name\": \"timoreilly\", \n",
        "   \"lang\": \"en\", \n",
        "   \"profile_background_tile\": false, \n",
        "   \"favourites_count\": 278, \n",
        "   \"name\": \"Tim O'Reilly\", \n",
        "   \"notifications\": false, \n",
        "   \"url\": \"http://t.co/5086iX7oyT\", \n",
        "   \"created_at\": \"Tue Mar 27 01:14:05 +0000 2007\", \n",
        "   \"contributors_enabled\": false, \n",
        "   \"time_zone\": \"Pacific Time (US & Canada)\", \n",
        "   \"protected\": false, \n",
        "   \"default_profile\": false, \n",
        "   \"is_translator\": false\n",
        "  }, \n",
        "  \"geo\": null, \n",
        "  \"in_reply_to_user_id_str\": null, \n",
        "  \"possibly_sensitive\": false, \n",
        "  \"lang\": \"en\", \n",
        "  \"created_at\": \"Wed Jul 23 17:44:30 +0000 2014\", \n",
        "  \"in_reply_to_status_id_str\": null, \n",
        "  \"place\": null, \n",
        "  \"metadata\": {\n",
        "   \"iso_language_code\": \"en\", \n",
        "   \"result_type\": \"recent\"\n",
        "  }\n",
        " }, \n",
        " \"user\": {\n",
        "  \"follow_request_sent\": false, \n",
        "  \"profile_use_background_image\": true, \n",
        "  \"default_profile_image\": false, \n",
        "  \"id\": 396116707, \n",
        "  \"profile_background_image_url_https\": \"https://pbs.twimg.com/profile_background_images/858686207/0640fe34cda4ff505cace54159344e7a.png\", \n",
        "  \"verified\": false, \n",
        "  \"profile_text_color\": \"333333\", \n",
        "  \"profile_image_url_https\": \"https://pbs.twimg.com/profile_images/1601462036/icon_normal.png\", \n",
        "  \"profile_sidebar_fill_color\": \"EFEFEF\", \n",
        "  \"entities\": {\n",
        "   \"url\": {\n",
        "    \"urls\": [\n",
        "     {\n",
        "      \"url\": \"http://t.co/BGrU0dQ4HZ\", \n",
        "      \"indices\": [\n",
        "       0, \n",
        "       22\n",
        "      ], \n",
        "      \"expanded_url\": \"http://realizingempathy.com/\", \n",
        "      \"display_url\": \"realizingempathy.com\"\n",
        "     }\n",
        "    ]\n",
        "   }, \n",
        "   \"description\": {\n",
        "    \"urls\": []\n",
        "   }\n",
        "  }, \n",
        "  \"followers_count\": 1066, \n",
        "  \"profile_sidebar_border_color\": \"000000\", \n",
        "  \"id_str\": \"396116707\", \n",
        "  \"profile_background_color\": \"131516\", \n",
        "  \"listed_count\": 37, \n",
        "  \"is_translation_enabled\": false, \n",
        "  \"utc_offset\": -14400, \n",
        "  \"statuses_count\": 1475, \n",
        "  \"description\": \"Through the lens of the creative process, we reframe what empathy is, why it is valuable, and how it can be better realized, developed, and facilitated.\", \n",
        "  \"friends_count\": 214, \n",
        "  \"location\": \"\\uacf5\\uac10\\uc758 \\uc2e4\\ud604\", \n",
        "  \"profile_link_color\": \"009999\", \n",
        "  \"profile_image_url\": \"http://pbs.twimg.com/profile_images/1601462036/icon_normal.png\", \n",
        "  \"following\": false, \n",
        "  \"geo_enabled\": false, \n",
        "  \"profile_banner_url\": \"https://pbs.twimg.com/profile_banners/396116707/1398202109\", \n",
        "  \"profile_background_image_url\": \"http://pbs.twimg.com/profile_background_images/858686207/0640fe34cda4ff505cace54159344e7a.png\", \n",
        "  \"screen_name\": \"realizempathy\", \n",
        "  \"lang\": \"en\", \n",
        "  \"profile_background_tile\": true, \n",
        "  \"favourites_count\": 0, \n",
        "  \"name\": \"Realizing Empathy \", \n",
        "  \"notifications\": false, \n",
        "  \"url\": \"http://t.co/BGrU0dQ4HZ\", \n",
        "  \"created_at\": \"Sat Oct 22 19:33:05 +0000 2011\", \n",
        "  \"contributors_enabled\": false, \n",
        "  \"time_zone\": \"Eastern Time (US & Canada)\", \n",
        "  \"protected\": false, \n",
        "  \"default_profile\": false, \n",
        "  \"is_translator\": false\n",
        " }, \n",
        " \"geo\": null, \n",
        " \"in_reply_to_user_id_str\": null, \n",
        " \"possibly_sensitive\": false, \n",
        " \"lang\": \"en\", \n",
        " \"created_at\": \"Wed Jul 23 17:52:37 +0000 2014\", \n",
        " \"in_reply_to_status_id_str\": null, \n",
        " \"place\": null, \n",
        " \"metadata\": {\n",
        "  \"iso_language_code\": \"en\", \n",
        "  \"result_type\": \"recent\"\n",
        " }\n",
        "}\n"
       ]
      }
     ],
     "prompt_number": 62
    },
    {
     "cell_type": "markdown",
     "metadata": {
      "slideshow": {
       "slide_type": "slide"
      }
     },
     "source": [
      "# Interactive Example: Link Extraction Attempt"
     ]
    },
    {
     "cell_type": "code",
     "collapsed": false,
     "input": [
      "import re # important note; this is common practice in notebooks, but violates PEP8\n",
      "\n",
      "# \"Imports are always put at the top of the file, just after any \n",
      "# module comments and docstrings, and before module globals and constants.\"\n",
      "\n",
      "# Yes, this is a terrible way to find URL-like strings.\n",
      "re.findall(r'(https?://\\S*)', statuses[0]['text'])"
     ],
     "language": "python",
     "metadata": {
      "slideshow": {
       "slide_type": "slide"
      }
     },
     "outputs": [
      {
       "metadata": {},
       "output_type": "pyout",
       "prompt_number": 63,
       "text": [
        "[u'https://t.co/2ZEdQkkKay']"
       ]
      }
     ],
     "prompt_number": 63
    },
    {
     "cell_type": "markdown",
     "metadata": {},
     "source": [
      "That looks plausible. Let's try applying that to all our results."
     ]
    },
    {
     "cell_type": "code",
     "collapsed": false,
     "input": [
      "urls = []\n",
      "for status in statuses:\n",
      "    urls += re.findall(r'(https?://\\S*)', status['text'])\n",
      "urls[0:10]"
     ],
     "language": "python",
     "metadata": {
      "slideshow": {
       "slide_type": "fragment"
      }
     },
     "outputs": [
      {
       "metadata": {},
       "output_type": "pyout",
       "prompt_number": 64,
       "text": [
        "[u'https://t.co/2ZEdQkkKay',\n",
        " u'http://t.co/cO7YdrGLdY',\n",
        " u'http://t.co/eaMSvVpF7X',\n",
        " u'http://t.co/aQnGLjOPS5',\n",
        " u'https://t.co/SHtkPGHLiN',\n",
        " u'http://t.co/V8bQGOf6Kg',\n",
        " u'http://t.co/N1zoVdxyeX',\n",
        " u'http://t.c\\u2026',\n",
        " u'http://t.co/hHrnz8SmqO',\n",
        " u'http://t.co/fqPi7Vko9e']"
       ]
      }
     ],
     "prompt_number": 64
    },
    {
     "cell_type": "markdown",
     "metadata": {
      "slideshow": {
       "slide_type": "fragment"
      }
     },
     "source": [
      "Huh, not great, if we use the `text` it looks like things get truncated. (`\\u2026` is \u2026 in unicode, what you see when a tweet trails off.)\n",
      "Looking at the JSON again, it looks like a lot of these have `['entities']['urls'][(list)]['expanded_url']`, let's try for those."
     ]
    },
    {
     "cell_type": "markdown",
     "metadata": {
      "slideshow": {
       "slide_type": "slide"
      }
     },
     "source": [
      "# Interactive Example: Link Extraction Take Two"
     ]
    },
    {
     "cell_type": "code",
     "collapsed": false,
     "input": [
      "urls = []\n",
      "for status in statuses:\n",
      "    try:\n",
      "        urls += [x['expanded_url'] for x in status['entities']['urls']]\n",
      "    except:\n",
      "        pass\n",
      "urls[0:5]"
     ],
     "language": "python",
     "metadata": {
      "slideshow": {
       "slide_type": "-"
      }
     },
     "outputs": [
      {
       "metadata": {},
       "output_type": "pyout",
       "prompt_number": 65,
       "text": [
        "[u'https://github.com/technoweenie/grohl',\n",
        " u'http://slidesha.re/1ocu4p6',\n",
        " u'https://github.com/blog/1863-pub-quiz-night-in-portland',\n",
        " u'http://buff.ly/1nUIQMp',\n",
        " u'http://buff.ly/1nUIRjo']"
       ]
      }
     ],
     "prompt_number": 65
    },
    {
     "cell_type": "markdown",
     "metadata": {},
     "source": [
      "Great! No more unicode weirdness. But, those shortened links are still redirects. Can we resolve them?"
     ]
    },
    {
     "cell_type": "markdown",
     "metadata": {
      "slideshow": {
       "slide_type": "slide"
      }
     },
     "source": [
      "# Interactive Example: Redirect Resolution"
     ]
    },
    {
     "cell_type": "code",
     "collapsed": false,
     "input": [
      "import requests\n",
      "\n",
      "rv = requests.get('http://buff.ly/1nUIRjo')\n",
      "rv.url"
     ],
     "language": "python",
     "metadata": {
      "slideshow": {
       "slide_type": "-"
      }
     },
     "outputs": [
      {
       "metadata": {},
       "output_type": "pyout",
       "prompt_number": 66,
       "text": [
        "u'http://girldevelopit.com/codeofconduct?utm_content=buffer9360b&utm_medium=social&utm_source=twitter.com&utm_campaign=buffer'"
       ]
      }
     ],
     "prompt_number": 66
    },
    {
     "cell_type": "markdown",
     "metadata": {},
     "source": [
      "Handy. Turns out if you get something with `requests` you can just access the `.url` property and find what it got after follwing all the redirects."
     ]
    },
    {
     "cell_type": "markdown",
     "metadata": {
      "slideshow": {
       "slide_type": "slide"
      }
     },
     "source": [
      "# Interactive Example: Counting URL's"
     ]
    },
    {
     "cell_type": "code",
     "collapsed": false,
     "input": [
      "from collections import Counter\n",
      "import requests\n",
      "\n",
      "# collections.Counter is a handy way to find 'Top N'\n",
      "popular = Counter()\n",
      "# Don't need to look up the same short link twice.\n",
      "cache = {}\n",
      "\n",
      "for url in urls:\n",
      "    if url in cache:\n",
      "        popular[cache[url]] += 1\n",
      "    else:\n",
      "        try:\n",
      "            rv = requests.get(url)\n",
      "            # resolve the original URL\n",
      "            cache[url] = rv.url\n",
      "            popular[rv.url] += 1\n",
      "        except:\n",
      "            # ignore anything bad that happens\n",
      "            pass"
     ],
     "language": "python",
     "metadata": {
      "slideshow": {
       "slide_type": "-"
      }
     },
     "outputs": [],
     "prompt_number": 67
    },
    {
     "cell_type": "markdown",
     "metadata": {
      "slideshow": {
       "slide_type": "slide"
      }
     },
     "source": [
      "# Interactive Example: Results"
     ]
    },
    {
     "cell_type": "code",
     "collapsed": false,
     "input": [
      "popular.most_common(10)"
     ],
     "language": "python",
     "metadata": {},
     "outputs": [
      {
       "metadata": {},
       "output_type": "pyout",
       "prompt_number": 74,
       "text": [
        "[(u'http://www.slideshare.net/Timoreilly1/technological-revolutions-and-cultural-revolutions-oscon-2014',\n",
        "  11),\n",
        " (u'https://plus.google.com/+Hastexo/posts/iPm4Daf39pn', 4),\n",
        " (u'https://github.com/blog/1863-pub-quiz-night-in-portland', 4),\n",
        " (u'http://opensource.com/life/14/7/oscon-2014', 3),\n",
        " (u'https://plus.google.com/+DJAdams/posts/gi6dJLJCYSV?pid=6038974065647024770&oid=110526626182299357893',\n",
        "  2),\n",
        " (u'http://blog.lfe.io/conferences/2014/07/23/0849-erlang--oscon-2014/', 2),\n",
        " (u'https://www.healthcare.gov/', 2),\n",
        " (u'http://instagram.com/p/qzVh1itQ40/', 2),\n",
        " (u'https://twitter.com/timoreilly/statuses/491722847597785089', 2),\n",
        " (u'https://cloudant.com/blog/couchdb-and-mongodb-let-our-query-apis-combine/?utm_source=twitter&utm_medium=social&utm_campaign=cloudant%20query',\n",
        "  2)]"
       ]
      }
     ],
     "prompt_number": 74
    },
    {
     "cell_type": "markdown",
     "metadata": {
      "slideshow": {
       "slide_type": "slide"
      }
     },
     "source": [
      "# Why was that cool?\n",
      "\n",
      "* Interactive & Exploratory. \n",
      "    * Scroll back up, re-review JSON, go another route\n",
      "* Cached all the things\n",
      "    * Not hitting twitter a bunch (rate limits, etc)\n",
      "    * Static data set (not changing every time you run the code)\n",
      "    * Can even keep developing while on conference wifi (*oohhhhhh*)\n",
      "* Easy to keep around as a log for future experiments\n",
      "* Easy to take that learning and 'bake' it into something more permanent"
     ]
    },
    {
     "cell_type": "code",
     "collapsed": false,
     "input": [
      "!ipython nbconvert --to python Tweet\\ Relief.ipynb"
     ],
     "language": "python",
     "metadata": {
      "slideshow": {
       "slide_type": "fragment"
      }
     },
     "outputs": [
      {
       "output_type": "stream",
       "stream": "stdout",
       "text": [
        "[NbConvertApp] Using existing profile dir: u'/Users/jbarratt/.ipython/profile_default'\r\n",
        "[NbConvertApp] Converting notebook Tweet Relief.ipynb to python\r\n",
        "[NbConvertApp] Support files will be in Tweet Relief_files/\r\n",
        "[NbConvertApp] Loaded template python.tpl\r\n"
       ]
      },
      {
       "output_type": "stream",
       "stream": "stdout",
       "text": [
        "[NbConvertApp] Writing 1882 bytes to Tweet Relief.py\r\n"
       ]
      }
     ],
     "prompt_number": 37
    },
    {
     "cell_type": "code",
     "collapsed": false,
     "input": [
      "!head -18 Tweet\\ Relief.py | grep -v '^\\s*$'"
     ],
     "language": "python",
     "metadata": {
      "slideshow": {
       "slide_type": "fragment"
      }
     },
     "outputs": [
      {
       "output_type": "stream",
       "stream": "stdout",
       "text": [
        "# coding: utf-8\r\n",
        "# In[37]:\r\n",
        "import json\r\n",
        "import twitter\r\n",
        "# In[41]:\r\n",
        "creds = json.load(open('/Users/jbarratt/.twitter.json'))\r\n",
        "auth = twitter.oauth.OAuth(creds['access_token'], \r\n",
        "                           creds['access_token_secret'],\r\n",
        "                           creds['api_key'], \r\n",
        "                           creds['api_secret'])\r\n",
        "twitter_api = twitter.Twitter(auth=auth)\r\n"
       ]
      }
     ],
     "prompt_number": 41
    },
    {
     "cell_type": "markdown",
     "metadata": {
      "slideshow": {
       "slide_type": "slide"
      }
     },
     "source": [
      "# The \"IPython\" in \"IPython Notebook\"`: I*nteractive* Python\n",
      "\n",
      "\n",
      "<div class=\"stretch\"><img src=\"PresentationImages/IPython_v_Notebook_v2.png\"/></div>"
     ]
    },
    {
     "cell_type": "markdown",
     "metadata": {
      "slideshow": {
       "slide_type": "slide"
      }
     },
     "source": [
      "# Skills port to the REPL\n",
      "\n",
      "```\n",
      "$ ipython\n",
      "Python 2.7.6 (default, Jan 28 2014, 10:24:42)\n",
      "Type \"copyright\", \"credits\" or \"license\" for more information.\n",
      "\n",
      "IPython 3.0.0-dev -- An enhanced Interactive Python.\n",
      "?         -> Introduction and overview of IPython's features.\n",
      "%quickref -> Quick reference.\n",
      "help      -> Python's own help system.\n",
      "object?   -> Details about 'object', use 'object??' for extra details.\n",
      "\n",
      "In [1]: import webbrowser\n",
      "\n",
      "In [2]: webbrowser.\n",
      "webbrowser.BackgroundBrowser    webbrowser.MacOSX               webbrowser.open_new_tab\n",
      "webbrowser.BaseBrowser          webbrowser.MacOSXOSAScript      webbrowser.os\n",
      "webbrowser.Chrome               webbrowser.Mozilla              webbrowser.register\n",
      "webbrowser.Chromium             webbrowser.Netscape             webbrowser.register_X_browsers\n",
      "webbrowser.Elinks               webbrowser.Opera                webbrowser.shlex\n",
      "webbrowser.Error                webbrowser.UnixBrowser          webbrowser.stat\n",
      "webbrowser.Galeon               webbrowser.get                  webbrowser.subprocess\n",
      "webbrowser.GenericBrowser       webbrowser.main                 webbrowser.sys\n",
      "webbrowser.Grail                webbrowser.open                 webbrowser.time\n",
      "webbrowser.Konqueror            webbrowser.open_new\n",
      "```"
     ]
    },
    {
     "cell_type": "markdown",
     "metadata": {
      "slideshow": {
       "slide_type": "slide"
      }
     },
     "source": [
      "# Interactive Gotcha: Single Namespace\n",
      "\n",
      "As you recall:\n",
      "\n",
      "![Remember Me](PresentationImages/03_Process.png)"
     ]
    },
    {
     "cell_type": "markdown",
     "metadata": {},
     "source": [
      "# So what happens when you do..."
     ]
    },
    {
     "cell_type": "code",
     "collapsed": false,
     "input": [
      "x = 5\n",
      "x"
     ],
     "language": "python",
     "metadata": {
      "slideshow": {
       "slide_type": "-"
      }
     },
     "outputs": [
      {
       "metadata": {},
       "output_type": "pyout",
       "prompt_number": 17,
       "text": [
        "5"
       ]
      }
     ],
     "prompt_number": 17
    },
    {
     "cell_type": "code",
     "collapsed": false,
     "input": [
      "# I ran this cell a few times\n",
      "x += 1\n",
      "x"
     ],
     "language": "python",
     "metadata": {
      "slideshow": {
       "slide_type": "fragment"
      }
     },
     "outputs": [
      {
       "metadata": {},
       "output_type": "pyout",
       "prompt_number": 24,
       "text": [
        "12"
       ]
      }
     ],
     "prompt_number": 24
    },
    {
     "cell_type": "markdown",
     "metadata": {
      "slideshow": {
       "slide_type": "slide"
      }
     },
     "source": [
      "# IPython Magic: Development Powertools\n",
      "\n",
      "Which method is faster?"
     ]
    },
    {
     "cell_type": "code",
     "collapsed": false,
     "input": [
      "import random, string\n",
      "\n",
      "# make a big list of random strings\n",
      "words = [''.join(random.choice(string.ascii_uppercase) for _ in range(6)) for _ in range(1000)]\n",
      "\n",
      "# Plan A: turn them all into lowercase with a list comprehension\n",
      "def listcomp_lower(words):\n",
      "    return [w.lower() for w in words]\n",
      "\n",
      "# Plan B: Start with a list, and word by word append the lowercase versions\n",
      "def append_lower(words):\n",
      "    new = []\n",
      "    for w in words:\n",
      "        new.append(w.lower())\n",
      "    return new\n",
      "\n",
      "# %timeit is IPython Magic to do a quick benchmark\n",
      "%timeit append_lower(words)"
     ],
     "language": "python",
     "metadata": {
      "slideshow": {
       "slide_type": "-"
      }
     },
     "outputs": [
      {
       "output_type": "stream",
       "stream": "stdout",
       "text": [
        "1000 loops, best of 3: 278 \u00b5s per loop\n"
       ]
      }
     ],
     "prompt_number": 28
    },
    {
     "cell_type": "code",
     "collapsed": false,
     "input": [
      "%timeit listcomp_lower(words)"
     ],
     "language": "python",
     "metadata": {},
     "outputs": [
      {
       "output_type": "stream",
       "stream": "stdout",
       "text": [
        "1000 loops, best of 3: 385 \u00b5s per loop\n"
       ]
      }
     ],
     "prompt_number": 15
    },
    {
     "cell_type": "code",
     "collapsed": false,
     "input": [
      "%lsmagic"
     ],
     "language": "python",
     "metadata": {
      "slideshow": {
       "slide_type": "slide"
      }
     },
     "outputs": [
      {
       "json": [
        "{\"cell\": {\"prun\": \"ExecutionMagics\", \"file\": \"Other\", \"!\": \"OSMagics\", \"capture\": \"ExecutionMagics\", \"timeit\": \"ExecutionMagics\", \"script\": \"ScriptMagics\", \"pypy\": \"Other\", \"system\": \"OSMagics\", \"perl\": \"Other\", \"HTML\": \"Other\", \"bash\": \"Other\", \"python\": \"Other\", \"SVG\": \"Other\", \"javascript\": \"DisplayMagics\", \"writefile\": \"OSMagics\", \"ruby\": \"Other\", \"python3\": \"Other\", \"python2\": \"Other\", \"latex\": \"DisplayMagics\", \"sx\": \"OSMagics\", \"svg\": \"DisplayMagics\", \"html\": \"DisplayMagics\", \"sh\": \"Other\", \"time\": \"ExecutionMagics\", \"debug\": \"ExecutionMagics\"}, \"line\": {\"psource\": \"NamespaceMagics\", \"logstart\": \"LoggingMagics\", \"popd\": \"OSMagics\", \"loadpy\": \"CodeMagics\", \"install_ext\": \"ExtensionMagics\", \"colors\": \"BasicMagics\", \"who_ls\": \"NamespaceMagics\", \"lf\": \"Other\", \"install_profiles\": \"DeprecatedMagics\", \"ll\": \"Other\", \"pprint\": \"BasicMagics\", \"lk\": \"Other\", \"ls\": \"Other\", \"save\": \"CodeMagics\", \"tb\": \"ExecutionMagics\", \"lx\": \"Other\", \"pylab\": \"PylabMagics\", \"killbgscripts\": \"ScriptMagics\", \"quickref\": \"BasicMagics\", \"magic\": \"BasicMagics\", \"dhist\": \"OSMagics\", \"edit\": \"KernelMagics\", \"logstop\": \"LoggingMagics\", \"gui\": \"BasicMagics\", \"alias_magic\": \"BasicMagics\", \"debug\": \"ExecutionMagics\", \"page\": \"BasicMagics\", \"logstate\": \"LoggingMagics\", \"ed\": \"Other\", \"pushd\": \"OSMagics\", \"timeit\": \"ExecutionMagics\", \"rehashx\": \"OSMagics\", \"hist\": \"Other\", \"qtconsole\": \"KernelMagics\", \"rm\": \"Other\", \"dirs\": \"OSMagics\", \"run\": \"ExecutionMagics\", \"reset_selective\": \"NamespaceMagics\", \"rep\": \"Other\", \"pinfo2\": \"NamespaceMagics\", \"matplotlib\": \"PylabMagics\", \"unload_ext\": \"ExtensionMagics\", \"doctest_mode\": \"KernelMagics\", \"logoff\": \"LoggingMagics\", \"reload_ext\": \"ExtensionMagics\", \"pdb\": \"ExecutionMagics\", \"load\": \"CodeMagics\", \"lsmagic\": \"BasicMagics\", \"autosave\": \"KernelMagics\", \"cd\": \"OSMagics\", \"pastebin\": \"CodeMagics\", \"prun\": \"ExecutionMagics\", \"cp\": \"Other\", \"autocall\": \"AutoMagics\", \"bookmark\": \"OSMagics\", \"connect_info\": \"KernelMagics\", \"mkdir\": \"Other\", \"system\": \"OSMagics\", \"whos\": \"NamespaceMagics\", \"rmdir\": \"Other\", \"automagic\": \"AutoMagics\", \"store\": \"StoreMagics\", \"more\": \"KernelMagics\", \"pdef\": \"NamespaceMagics\", \"precision\": \"BasicMagics\", \"pinfo\": \"NamespaceMagics\", \"pwd\": \"OSMagics\", \"psearch\": \"NamespaceMagics\", \"reset\": \"NamespaceMagics\", \"recall\": \"HistoryMagics\", \"xdel\": \"NamespaceMagics\", \"xmode\": \"BasicMagics\", \"cat\": \"Other\", \"mv\": \"Other\", \"rerun\": \"HistoryMagics\", \"logon\": \"LoggingMagics\", \"history\": \"HistoryMagics\", \"pycat\": \"OSMagics\", \"unalias\": \"OSMagics\", \"install_default_config\": \"DeprecatedMagics\", \"env\": \"OSMagics\", \"load_ext\": \"ExtensionMagics\", \"config\": \"ConfigMagics\", \"profile\": \"BasicMagics\", \"pfile\": \"NamespaceMagics\", \"less\": \"KernelMagics\", \"who\": \"NamespaceMagics\", \"notebook\": \"BasicMagics\", \"man\": \"KernelMagics\", \"sx\": \"OSMagics\", \"macro\": \"ExecutionMagics\", \"clear\": \"KernelMagics\", \"alias\": \"OSMagics\", \"time\": \"ExecutionMagics\", \"sc\": \"OSMagics\", \"ldir\": \"Other\", \"pdoc\": \"NamespaceMagics\"}}"
       ],
       "metadata": {},
       "output_type": "pyout",
       "prompt_number": 25,
       "text": [
        "Available line magics:\n",
        "%alias  %alias_magic  %autocall  %automagic  %autosave  %bookmark  %cat  %cd  %clear  %colors  %config  %connect_info  %cp  %debug  %dhist  %dirs  %doctest_mode  %ed  %edit  %env  %gui  %hist  %history  %install_default_config  %install_ext  %install_profiles  %killbgscripts  %ldir  %less  %lf  %lk  %ll  %load  %load_ext  %loadpy  %logoff  %logon  %logstart  %logstate  %logstop  %ls  %lsmagic  %lx  %macro  %magic  %man  %matplotlib  %mkdir  %more  %mv  %notebook  %page  %pastebin  %pdb  %pdef  %pdoc  %pfile  %pinfo  %pinfo2  %popd  %pprint  %precision  %profile  %prun  %psearch  %psource  %pushd  %pwd  %pycat  %pylab  %qtconsole  %quickref  %recall  %rehashx  %reload_ext  %rep  %rerun  %reset  %reset_selective  %rm  %rmdir  %run  %save  %sc  %store  %sx  %system  %tb  %time  %timeit  %unalias  %unload_ext  %who  %who_ls  %whos  %xdel  %xmode\n",
        "\n",
        "Available cell magics:\n",
        "%%!  %%HTML  %%SVG  %%bash  %%capture  %%debug  %%file  %%html  %%javascript  %%latex  %%perl  %%prun  %%pypy  %%python  %%python2  %%python3  %%ruby  %%script  %%sh  %%svg  %%sx  %%system  %%time  %%timeit  %%writefile\n",
        "\n",
        "Automagic is ON, % prefix IS NOT needed for line magics."
       ]
      }
     ],
     "prompt_number": 25
    },
    {
     "cell_type": "markdown",
     "metadata": {},
     "source": [
      "### Don't Panic\n",
      "\n",
      "    %%writefile?\n",
      "\n",
      "        %writefile [-a] filename\n",
      "        Write the contents of the cell to a file."
     ]
    },
    {
     "cell_type": "markdown",
     "metadata": {
      "slideshow": {
       "slide_type": "slide"
      }
     },
     "source": [
      "# Exporting\n",
      "\n",
      "`ipynb format` is clean, readable JSON, which inlines any output results, including base64'd images.\n",
      "\n",
      "\n",
      "    ...\n",
      "    {\n",
      "     \"cell_type\": \"markdown\",\n",
      "     \"metadata\": {\n",
      "      \"slideshow\": {\n",
      "       \"slide_type\": \"slide\"\n",
      "      }\n",
      "     },\n",
      "     \"source\": [\n",
      "      \"# Magic can be magical\"\n",
      "     ]\n",
      "    },\n",
      "    ...\n"
     ]
    },
    {
     "cell_type": "markdown",
     "metadata": {
      "slideshow": {
       "slide_type": "slide"
      }
     },
     "source": [
      "# Great Notebook Use Cases\n",
      "\n",
      "There are many use cases where the notebook makes a lot of sense to use. Here are a few illustrated examples:\n",
      "\n",
      "* [Code Mentorship](http://127.0.0.1:8888/notebooks/FunWithSets.ipynb)\n",
      "* [Documentation/Runbooks](http://127.0.0.1:8888/notebooks/Command%20Line%20Demo.ipynb)\n",
      "* [Data Normalization](http://127.0.0.1:8888/notebooks/Ryno%20Reformat.ipynb) (+ Inline Error Resolution)\n",
      "* [Data Analysis](http://localhost:8888/notebooks/Graphite%20Time%20Series.ipynb), [Portland Example](http://localhost:8888/notebooks/PortlandCrime.ipynb)\n",
      "* [Web Logs](http://127.0.0.1:8888/notebooks/Apache_log.ipynb)\n",
      "* [Blogging](http://127.0.0.1:8888/notebooks/xkcd1313.ipynb)\n",
      "* Wiki'ing...\n",
      "\n",
      "We won't go into them all for time, but a few highlights:"
     ]
    },
    {
     "cell_type": "markdown",
     "metadata": {
      "slideshow": {
       "slide_type": "slide"
      }
     },
     "source": [
      "# Use Case: Data Analysis\n",
      "\n",
      "This is the gateway drug that gets many people into IPython Notebook. It's the real sweet spot between what makes Python great (pandas, scikit\\*, numpy, matplotlib, etc) and IPython Notebook great (Literate, Visual, Interactive, Iterative.)\n",
      "\n",
      "[![big data](PresentationImages/bigdata.jpg)](http://localhost:8888/notebooks/PortlandCrime.ipynb)\n",
      "\n",
      "<small>Did I permanenently ruin your ability to hear the term 'big data' without thinking of this? You're welcome.</small>"
     ]
    },
    {
     "cell_type": "markdown",
     "metadata": {
      "slideshow": {
       "slide_type": "slide"
      }
     },
     "source": [
      "# Want more Data? Go to F150 Next!\n",
      "\n",
      "![DataAnalysis](PresentationImages/F150.png)"
     ]
    },
    {
     "cell_type": "markdown",
     "metadata": {
      "slideshow": {
       "slide_type": "slide"
      }
     },
     "source": [
      "# Use Case: Code Mentorship\n",
      "\n",
      "[![Pairon](PresentationImages/pairon.jpg)](http://127.0.0.1:8888/notebooks/FunWithSets.ipynb)\n",
      "\n",
      "Because you can't always pair..."
     ]
    },
    {
     "cell_type": "markdown",
     "metadata": {
      "slideshow": {
       "slide_type": "slide"
      }
     },
     "source": [
      "# Use Case: Documentation & Runbooks\n",
      "\n",
      "[![disturbing](PresentationImages/disturbing_documentation.jpg)](http://127.0.0.1:8888/notebooks/Command%20Line%20Demo.ipynb)"
     ]
    },
    {
     "cell_type": "markdown",
     "metadata": {
      "slideshow": {
       "slide_type": "slide"
      }
     },
     "source": [
      "# Use Case: Wiki Publishing\n",
      "\n",
      "Also can work for HTML emails, etc.\n",
      "\n",
      "<div class=\"stretch\"><img src=\"PresentationImages/WikiConversion.png\"/></div>"
     ]
    },
    {
     "cell_type": "markdown",
     "metadata": {
      "slideshow": {
       "slide_type": "slide"
      }
     },
     "source": [
      "# Use Case: Blogging\n",
      "\n",
      "When the guy who wrote my [AI Textbook](http://aima.cs.berkeley.edu/) uses it, you know it's good software!\n",
      "\n",
      "<a href=\"http://127.0.0.1:8888/notebooks/xkcd1313.ipynb\"><div class=\"stretch\"><img src=\"PresentationImages/XCKDBlog.png\"/></div></a>\n",
      "\n",
      "See [nikola](http://www.damian.oquanta.info/posts/ipython-plugin-for-nikola-updated.html) or [pelican](https://github.com/danielfrg/pelican-ipythonnb) for automated ways to blog."
     ]
    },
    {
     "cell_type": "markdown",
     "metadata": {
      "slideshow": {
       "slide_type": "slide"
      }
     },
     "source": [
      "# Clearing up the clutter\n",
      "\n",
      "Lots of the slides had more code than we might want in a report; several approaches.\n",
      "It's on the notebook roadmap to add an 'official' way to do this.\n",
      "\n",
      "* ``%run`` magic runs another notebook, pulling variables in\n",
      "* Move code to a local module (``ipython nbconvert --to python`` & refactor) or build a real module (Tip: ``%load_ext autoreload; %autoreload 2`` or ``%aimport mymodule``)\n",
      "* Use a custom output template\n",
      "* Easiest: Hide cells with a ``custom.css``. (**Annoying caveat!**)\n",
      "\n",
      "\n",
      "    /* Boss Mode */\n",
      "    div.input {\n",
      "        display: none;\n",
      "    }\n",
      "\n",
      "    div.output_prompt {\n",
      "        display: none;\n",
      "    }\n",
      "\n",
      "    div.output_text {\n",
      "        display: none;\n",
      "    }"
     ]
    },
    {
     "cell_type": "markdown",
     "metadata": {
      "slideshow": {
       "slide_type": "slide"
      }
     },
     "source": [
      "# Boss Mode HTML -> PDF Output\n",
      "\n",
      "<div class=\"stretch\"><img src=\"PresentationImages/bossmode.png\"/></div>"
     ]
    },
    {
     "cell_type": "markdown",
     "metadata": {
      "slideshow": {
       "slide_type": "slide"
      }
     },
     "source": [
      "# Customized Displays\n",
      "\n",
      "Hey, we have HTML to play with!\n",
      "There are many ways to display prettier things inline.\n",
      "\n",
      "* [ipy_table](http://epmoyer.github.io/ipy_table/) does nice HTML Table display of list/tab data which isn't worth putting into pandas.\n",
      "* [IPython Display System](http://nbviewer.ipython.org/github/ipython/ipython/blob/1.x/examples/notebooks/Part%205%20-%20Rich%20Display%20System.ipynb) covers many more capabilities in detail\n",
      "\n",
      "\n",
      "Simple Custom HTML:\n",
      "\n",
      "\n",
      "    from IPython.core.display import HTML\n",
      "\n",
      "    def foo():\n",
      "        raw_html = \"<h1>Yah, rendered HTML</h1>\"\n",
      "        return HTML(raw_html)\n"
     ]
    },
    {
     "cell_type": "markdown",
     "metadata": {
      "slideshow": {
       "slide_type": "slide"
      }
     },
     "source": [
      "# Rich Objects\n",
      "\n",
      "You can also define additional ``__repr__()``-type methods on custom objects.\n",
      "This has all kinds of fun possibilities.\n",
      "\n",
      "``_repr_html_()``, ``svg``, ``png``, ``jpeg``, ``html``, ``javascript``, ``latex``."
     ]
    },
    {
     "cell_type": "code",
     "collapsed": false,
     "input": [
      "class FancyText(object):\n",
      "    def __init__(self, text):\n",
      "        self.text = text\n",
      "        \n",
      "    def _repr_html_(self):\n",
      "        \"\"\" Use some fancy CSS3 styling when we return this \"\"\"\n",
      "        style=(\"text-shadow: 0 1px 0 #ccc,0 2px 0 #c9c9c9,0 3px 0 #bbb,\"\n",
      "               \"0 4px 0 #b9b9b9,0 5px 0 #aaa,0 6px 1px rgba(0,0,0,.1)\")\n",
      "        \n",
      "        return '<h1 style=\"{}\">{}</h1>'.format(style, self.text)\n",
      "\n",
      "FancyText(\"Hello #OSCON!\")"
     ],
     "language": "python",
     "metadata": {
      "slideshow": {
       "slide_type": "fragment"
      }
     },
     "outputs": [
      {
       "html": [
        "<h1 style=\"text-shadow: 0 1px 0 #ccc,0 2px 0 #c9c9c9,0 3px 0 #bbb,0 4px 0 #b9b9b9,0 5px 0 #aaa,0 6px 1px rgba(0,0,0,.1)\">Hello #OSCON!</h1>"
       ],
       "metadata": {},
       "output_type": "pyout",
       "prompt_number": 34,
       "text": [
        "<__main__.FancyText at 0x10dc797d0>"
       ]
      }
     ],
     "prompt_number": 34
    },
    {
     "cell_type": "markdown",
     "metadata": {
      "slideshow": {
       "slide_type": "slide"
      }
     },
     "source": [
      "# Automated Testing\n",
      "\n",
      "Many options for testing, nothing too formal yet. These could easily be run by Travis/Jenkins/... \n",
      "\n",
      "* [This one](https://gist.github.com/timo/2621679) discovers cells as ``pytest`` tests. (needs an update for IPython 2.0)\n",
      "* [This one](https://gist.github.com/minrk/2620735) runs the cells and compares the output with what's stored in the notebook.\n",
      "* [This one](https://gist.github.com/gtfierro/9081920) just runs the cells and reports any exceptions."
     ]
    },
    {
     "cell_type": "markdown",
     "metadata": {
      "slideshow": {
       "slide_type": "slide"
      }
     },
     "source": [
      "    $ ./checkipnb.py xkcd1313.ipynb                                                                                  \n",
      "    running xkcd1313.ipynb\n",
      "    .........\n",
      "    FAILURE:\n",
      "    def test1():\n",
      "        assert subparts('^it$') == {'^', 'i', 't', '$', '^i', 'it', 't$', '^it', 'it$', '^it$'}\n",
      "    test1()\n",
      "    -----\n",
      "    raised:\n",
      "    ---------------------------------------------------------------------------\n",
      "    NameError                                 Traceback (most recent call last)\n",
      "    <ipython-input-11-a4492b0ec0d5> in <module>()\n",
      "    ---> 26 test1()\n",
      "\n",
      "    <ipython-input-11-a4492b0ec0d5> in test1()\n",
      "\n",
      "         22     assert words('This is a TEST this is') == {'this', 'is', 'a', 'test'}\n",
      "    ---> 23     assert lines('Testing / 1 2 3 / Testing over') == {'TESTING', '1 2 3', 'TESTING OVER'}\n",
      "\n",
      "    NameError: global name 'lines' is not defined\n",
      "    .............\n",
      "    ran notebook \n",
      "        ran  22 cells\n",
      "          1 cells raised exceptions"
     ]
    },
    {
     "cell_type": "markdown",
     "metadata": {
      "slideshow": {
       "slide_type": "slide"
      }
     },
     "source": [
      "# IPython (& Notebook) Customization\n",
      "\n",
      "![custommap](PresentationImages/CustomizationMap.png)\n",
      "\n",
      "See more on [Profiles](http://ipython.org/ipython-doc/dev/config/intro.html#profiles), [Javascript Extensions](https://github.com/ipython-contrib/IPython-notebook-extensions/wiki), [IPython Extensions](https://github.com/ipython/ipython/wiki/Extensions-Index), and [nbconvert Templates](http://www.damian.oquanta.info/posts/change-the-ipython-slides-defaults-with-an-ipython-config-file.html)\n",
      "    "
     ]
    },
    {
     "cell_type": "code",
     "collapsed": false,
     "input": [
      "profile = !ipython locate profile\n",
      "print profile\n",
      "custom_js = profile[0] + \"/static/custom/custom.js\"\n",
      "print custom_js\n",
      "!head $custom_js\n"
     ],
     "language": "python",
     "metadata": {
      "slideshow": {
       "slide_type": "slide"
      }
     },
     "outputs": [
      {
       "output_type": "stream",
       "stream": "stdout",
       "text": [
        "['/Users/jbarratt/.ipython/profile_default']\n",
        "/Users/jbarratt/.ipython/profile_default/static/custom/custom.js\n",
        "// leave at least 2 line with only a star on it below, or doc generation fails\r\n",
        "/**\r\n",
        " *\r\n",
        " *\r\n",
        " * Placeholder for custom user javascript\r\n",
        " * mainly to be overridden in profile/static/custom/custom.js\r\n",
        " * This will always be an empty file in IPython\r\n",
        " *\r\n",
        " * User could add any javascript in the `profile/static/custom/custom.js` file\r\n",
        " * (and should create it if it does not exist).\r\n"
       ]
      }
     ],
     "prompt_number": 11
    },
    {
     "cell_type": "markdown",
     "metadata": {},
     "source": [
      "Thankfully you can organize them in unique files, and just ``require`` them in ``custom.js``\n",
      "\n",
      "    $([IPython.events]).on('app_initialized.NotebookApp', function(){\n",
      "        require(['/static/custom/clean_start.js']);\n",
      "        require(['/static/custom/styling/css-selector/main.js']);\n",
      "    })"
     ]
    },
    {
     "cell_type": "markdown",
     "metadata": {
      "slideshow": {
       "slide_type": "slide"
      }
     },
     "source": [
      "# Javascript, Huh, What is it good for\n",
      "\n",
      "### Customizing the UI\n",
      "\n",
      "    IPython.toolbar.add_buttons_group([\n",
      "                {\n",
      "                    id : 'toggle_codecells',\n",
      "                    label : 'Toggle codecell display',\n",
      "                    icon : 'icon-list-alt',\n",
      "                    callback : toggle\n",
      "                }\n",
      "          ]);\n",
      "\n",
      "### And more...\n",
      "\n",
      "Turns out, a lot! You can execute anything you can run in an IPython Notebook cell."
     ]
    },
    {
     "cell_type": "markdown",
     "metadata": {
      "slideshow": {
       "slide_type": "fragment"
      }
     },
     "source": [
      "    IPython.notebook.kernel.execute(\"!rm -rf /\")\n",
      "\n",
      "[Demo](http://localhost:8888/notebooks/Javascript%20Demo.ipynb#) <small>Of a less scary example</small>"
     ]
    },
    {
     "cell_type": "markdown",
     "metadata": {
      "slideshow": {
       "slide_type": "slide"
      }
     },
     "source": [
      "# Don't forget custom.css\n",
      "\n",
      "For example, [base16 color schemes](https://github.com/nsonnad/base16-ipython-notebook)\n",
      "\n",
      "<div class=\"stretch\"><img src=\"PresentationImages/ocean-dark.png\"/></div>"
     ]
    },
    {
     "cell_type": "markdown",
     "metadata": {
      "slideshow": {
       "slide_type": "slide"
      }
     },
     "source": [
      "# Sharing Notebooks\n",
      "\n",
      "<div class=\"stretch\"><img src=\"PresentationImages/NBViewer.png\"/></div>"
     ]
    },
    {
     "cell_type": "markdown",
     "metadata": {
      "slideshow": {
       "slide_type": "skip"
      }
     },
     "source": [
      "* [Color schemes](http://www.damian.oquanta.info/posts/48-themes-for-your-ipython-notebook.html)\n",
      "* [Interactive Demos with IPython](http://ipython.org/ipython-doc/dev/interactive/reference.html#interactive-demos-with-ipython)\n",
      "* [Customizing reveal.js](http://www.damian.oquanta.info//posts/change-the-ipython-slides-defaults-with-an-ipython-config-file.html)\n",
      "* [Quickly Sharing Notebooks as Gists](http://nbviewer.ipython.org/gist/minrk/4982809)\n",
      "* [Great intro to the basics](http://nbviewer.ipython.org/url/www.southampton.ac.uk/~fangohr/training/python/snippets/day4/IPython-beyond-plain-Python-Fernando-Perez.ipynb?create=1)\n",
      "* [IPython In Depth](https://github.com/ipython/ipython-in-depth/tree/master/notebooks) notebook collection\n",
      "* [Pygments Magic](https://gist.github.com/jiffyclub/5385501)"
     ]
    },
    {
     "cell_type": "markdown",
     "metadata": {
      "slideshow": {
       "slide_type": "slide"
      }
     },
     "source": [
      "# Oh, one more thing"
     ]
    },
    {
     "cell_type": "markdown",
     "metadata": {
      "slideshow": {
       "slide_type": "slide"
      }
     },
     "source": [
      "# IT CAME FROM INSIDE THE NOTEBOOK\n",
      "\n",
      "![cant stop cant stop the top](PresentationImages/cant_stop_top.gif)\n",
      "\n",
      "* Highly technical decks can be created quickly\n",
      "* Collaboration features are still quite useful\n",
      "* [Check It Out](http://localhost:8888/notebooks/Presentation.ipynb)"
     ]
    },
    {
     "cell_type": "markdown",
     "metadata": {
      "slideshow": {
       "slide_type": "slide"
      }
     },
     "source": [
      "# Building slides\n",
      "\n",
      "* Turn on the 'slideshow' cell toolbar\n",
      "* Types:\n",
      "    * Slide: start a new slide\n",
      "    * ``-``: Continue a slide\n",
      "    * Sub-Slide: Make a 'down' slide\n",
      "    * Fragment: Make a 'bullet' type incoming slide\n",
      "    * Skip: keep in the notebook, not the deck\n",
      "    * Notes: speaker notes"
     ]
    },
    {
     "cell_type": "code",
     "collapsed": false,
     "input": [
      "!ipython nbconvert Presentation.ipynb --to slides"
     ],
     "language": "python",
     "metadata": {
      "slideshow": {
       "slide_type": "-"
      }
     },
     "outputs": [
      {
       "output_type": "stream",
       "stream": "stdout",
       "text": [
        "[NbConvertApp] Using existing profile dir: u'/Users/jbarratt/.ipython/profile_default'\r\n"
       ]
      },
      {
       "output_type": "stream",
       "stream": "stdout",
       "text": [
        "[NbConvertApp] Converting notebook 00 Presentation.ipynb to slides\r\n",
        "[NbConvertApp] Support files will be in 00 Presentation_files/\r\n"
       ]
      },
      {
       "output_type": "stream",
       "stream": "stdout",
       "text": [
        "[NbConvertApp] Loaded template slides_reveal.tpl\r\n"
       ]
      },
      {
       "output_type": "stream",
       "stream": "stdout",
       "text": [
        "[NbConvertApp] Writing 188767 bytes to 00 Presentation.slides.html\r\n"
       ]
      }
     ],
     "prompt_number": 1
    },
    {
     "cell_type": "markdown",
     "metadata": {
      "slideshow": {
       "slide_type": "slide"
      }
     },
     "source": [
      "# Other Resources\n",
      "\n",
      "\n",
      "## Try It Online\n",
      "\n",
      "* [Wakari](https://wakari.io/)\n",
      "\n",
      "## Installing\n",
      "\n",
      "* ``$ pip install ipython[all]`` (``brew install python``)    **OR**\n",
      "* [Anaconda](http://continuum.io/downloads) **OR**\n",
      "* [docker-ipython](https://github.com/mingfang/docker-ipython)\n",
      "    * Preloaded with lots of sometimes challenging-to-install packages like Pattern, NLTK, Pandas, NumPy, SciPy, Numba, Biopython...\n",
      "\n",
      "## Learning More\n",
      "\n",
      "* Slides & example notebooks will be up on the OSCON site later.\n",
      "* [A Gallery of Interesting IPython Notebooks](https://github.com/ipython/ipython/wiki/A-gallery-of-interesting-IPython-Notebooks)\n",
      "* [Extensions](https://github.com/ipython-contrib/IPython-notebook-extensions/wiki)\n",
      "* nbviewer (good way to discover organically)\n",
      "* Pandas/numpy, Statsmodels, Matplotlib, bokeh, vincent, scikit-learn, scikit-image, .... (F150!)\n",
      "* Talk to me! @jbarratt on twitter, `jbarratt@serialized.net`"
     ]
    },
    {
     "cell_type": "markdown",
     "metadata": {
      "slideshow": {
       "slide_type": "slide"
      }
     },
     "source": [
      "### Credits\n",
      "\n",
      "<small>\n",
      "\n",
      "* Quill designed by <a href=\"http://www.thenounproject.com/SimpleIcons\">Simple Icons</a> from the <a href=\"http://www.thenounproject.com\">Noun Project</a>, \n",
      "* Settings designed by <a href=\"http://www.thenounproject.com/clementthorez\">Cl\u00e9ment thorez</a> from the <a href=\"http://www.thenounproject.com\">Noun Project</a>, \n",
      "* Photo designed by <a href=\"http://www.thenounproject.com/SimpleIcons\">Simple Icons</a> from the <a href=\"http://www.thenounproject.com\">Noun Project</a>, \n",
      "* Recurring Edit designed by <a href=\"http://www.thenounproject.com/lemonliu\">Lemon Liu</a> from the <a href=\"http://www.thenounproject.com\">Noun Project</a>\n",
      "* Cover page texture from [grungetextures](https://www.flickr.com/photos/grungetextures/4200664412/in/photolist-7pcvbu-5Migu9-8aMMJD-5AiUhi-8CCXzG-fVXo-mRvNvg-4YrNGd-cD7bJQ-6thwGL-52DkmT-6pRT2i-6kLpc8-9pwEpm-6VaRkh-jEwc9f-7xYwSY-bb9ePk-3ywCyW-fEQaH-dJ1KQ-6wwmgT-7vRRUN-2BN6tk-6iPoTE-oesZ8p-5Aobef-5AoaZj-4hpdQy-fcc4su-63hB4Y-7rcrX6-59gmSs-5EeZsz-5eGyrF-4xVw4h-a9wz4Z-DXDK-52Hzbq-6umvnC-gDMTLt-jB2RSp-8f4baS-bqWQBp-aDBYnh-8UHpv9-a9fnad-wGTa9-nQfNsR-dDskMP) via Flickr.\n",
      "\n",
      "</small>"
     ]
    }
   ],
   "metadata": {}
  }
 ]
}