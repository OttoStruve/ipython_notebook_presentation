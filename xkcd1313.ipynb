{
 "metadata": {
  "name": "",
  "signature": "sha256:6c09533ba640490029ddd6201777830c2027668e31c307199c0f445b3a6a835c"
 },
 "nbformat": 3,
 "nbformat_minor": 0,
 "worksheets": [
  {
   "cells": [
    {
     "cell_type": "markdown",
     "metadata": {},
     "source": [
      "xkcd 1313: Regex Golf\n",
      "====\n",
      "\n",
      "<p style=\"text-align: right\"><i>Peter Norvig<br>January 2014</i></p>\n",
      "\n",
      "I love &#x2661; [xkcd](http://xkcd.com)! It reliably provides top-quality [insights](http://xkcd.com/285/), [humor](http://xkcd.com/612/), or [both](http://xkcd.com/627/). It was a thrill for me when I got to [introduce Randall Monroe](http://www.youtube.com/watch?v=zJOS0sV2a24) for his talk at Google. But in xkcd #1313,\n",
      "\n",
      "<a href=\"http://xkcd.com/1313\">![](http://imgs.xkcd.com/comics/regex_golf.png)</a>\n",
      "\n",
      "I found that the hover text, \"<span style=\"background-color:#ffff99\">/bu|[rn]t|[coy]e|[mtg]a|j|iso|n[hl]|[ae]d|lev|sh|[lnd]i|[po]o|ls/ matches the last names of elected US presidents but not their opponents</span>\", contains a confusing contradiction.  There are several last names (like \"Nixon\") that denote both elected presidents and opponents.  So no regular expression could both match and not match \"Nixon\".  I could only assume that Randall meant for these names to be winners and not losers (and in fact he later confirmed that was the correct interpretation).\n",
      "\n",
      "So that got me thinking: can I come up with an algorithm to find a short regex that matches the winners and not the losers? \n",
      "    \n",
      "I started by finding [a page](http://www.anesi.com/presname.htm) that lists presidential elections through 2000. Adding the 2004-2012 results I get these lists of winners and losers:"
     ]
    },
    {
     "cell_type": "code",
     "collapsed": false,
     "input": [
      "def words(text): return set(text.lower().split())\n",
      "\n",
      "winners = words('''washington adams jefferson jefferson madison madison monroe \n",
      "    monroe adams jackson jackson van-buren harrison polk taylor pierce buchanan \n",
      "    lincoln lincoln grant grant hayes garfield cleveland harrison cleveland mckinley\n",
      "    mckinley roosevelt taft wilson wilson harding coolidge hoover roosevelt \n",
      "    roosevelt roosevelt roosevelt truman eisenhower eisenhower kennedy johnson nixon \n",
      "    nixon carter reagan reagan bush clinton clinton bush bush obama obama''')\n",
      "\n",
      "losers = words('''clinton jefferson adams pinckney pinckney clinton king adams \n",
      "    jackson adams clay van-buren van-buren clay cass scott fremont breckinridge \n",
      "    mcclellan seymour greeley tilden hancock blaine cleveland harrison bryan bryan \n",
      "    parker bryan roosevelt hughes cox davis smith hoover landon wilkie dewey dewey \n",
      "    stevenson stevenson nixon goldwater humphrey mcgovern ford carter mondale \n",
      "    dukakis bush dole gore kerry mccain romney''')"
     ],
     "language": "python",
     "metadata": {},
     "outputs": [],
     "prompt_number": 29
    },
    {
     "cell_type": "markdown",
     "metadata": {},
     "source": [
      "We can see that there are names that are both winners and losers:"
     ]
    },
    {
     "cell_type": "code",
     "collapsed": false,
     "input": [
      "print(winners & losers)"
     ],
     "language": "python",
     "metadata": {},
     "outputs": [
      {
       "output_type": "stream",
       "stream": "stdout",
       "text": [
        "set(['hoover', 'jackson', 'carter', 'roosevelt', 'bush', 'jefferson', 'harrison', 'cleveland', 'clinton', 'nixon', 'van-buren', 'adams'])\n"
       ]
      }
     ],
     "prompt_number": 2
    },
    {
     "cell_type": "markdown",
     "metadata": {},
     "source": [
      "Note that we are working with names, not people: Bill Clinton was a winner and George Clinton (the <a href=\"http://en.wikipedia.org/wiki/George_Clinton_(vice_president)\">Revolutionary War leader</a>, not the <a href=\"http://en.wikipedia.org/wiki/George_Clinton_(musician)\">Funkadelic leader</a>) was a loser, but they both count as `'clinton'`.  \n",
      "\n",
      "To avoid a contradiction and achieve Randall's intent, eliminate all winners from the set of losers:"
     ]
    },
    {
     "cell_type": "code",
     "collapsed": false,
     "input": [
      "losers = losers - winners"
     ],
     "language": "python",
     "metadata": {},
     "outputs": [],
     "prompt_number": 30
    },
    {
     "cell_type": "markdown",
     "metadata": {},
     "source": [
      "Defining the Problem\n",
      "----\n",
      "\n",
      "Next we need to be clear exactly what we're trying to achieve. We're looking for a Python regular expression which, when used with the `re.search` function, will match all of the winners but none of the losers.  We can define the function `verify` to return True if a regex does that; if not it returns False and prints all the winners/losers it gets wrong:"
     ]
    },
    {
     "cell_type": "code",
     "collapsed": false,
     "input": [
      "import re\n",
      "\n",
      "def verify(regex, winners, losers):\n",
      "    \"Return true iff the regex matches all winners but no losers.\"\n",
      "    missed_winners = {W for W in winners if not re.search(regex, W)}\n",
      "    matched_losers = {L for L in losers if re.search(regex, L)}\n",
      "    if missed_winners:\n",
      "        print \"Error: should match but did not:\", ', '.join(missed_winners)\n",
      "    if matched_losers:\n",
      "        print \"Error: should not match but did:\", ', '.join(matched_losers)\n",
      "    return not (missed_winners or matched_losers)"
     ],
     "language": "python",
     "metadata": {},
     "outputs": [],
     "prompt_number": 31
    },
    {
     "cell_type": "markdown",
     "metadata": {},
     "source": [
      "We can use this to test xkcd's regex:"
     ]
    },
    {
     "cell_type": "code",
     "collapsed": false,
     "input": [
      "xkcd = \"bu|[rn]t|[coy]e|[mtg]a|j|iso|n[hl]|[ae]d|lev|sh|[lnd]i|[po]o|ls\"\n",
      "verify(xkcd, winners, losers)"
     ],
     "language": "python",
     "metadata": {},
     "outputs": [
      {
       "output_type": "stream",
       "stream": "stdout",
       "text": [
        "Error: should not match but did: fremont\n"
       ]
      },
      {
       "metadata": {},
       "output_type": "pyout",
       "prompt_number": 5,
       "text": [
        "False"
       ]
      }
     ],
     "prompt_number": 5
    },
    {
     "cell_type": "markdown",
     "metadata": {},
     "source": [
      "That's interesting&mdash;we see that the xkcd regular expression incorrectly matches `\"fremont\"`, representing John C. Fremont, opponent of James Buchanan in 1856. Could Randall have made an error?  Is someone [wrong](http://xkcd.com/386/) on the Internet? Investigating the [1856 election](http://en.wikipedia.org/wiki/United_States_presidential_election,_1856), I see that Randall must have had Millard Fillmore, the third-party candidate, listed as the opponent. Fillmore is of course more famous, having served as the 13th president (although he never won an election; he became president when Taylor died in office). But Fillmore only got 8 electoral votes in 1856 and Fremont got 114, so I will stick with Fremont in *my* list of losers. \n",
      "\n",
      "However, we can verify that Randall got it right under the interpretation that Fillmore, not Fremont, is the opponent. (Note: in the algebra of sets, `(A & B)` means intersection, `(A | B)` means union, and `(A - B)` means set difference, or the elements of `A` that are not in `B`.)"
     ]
    },
    {
     "cell_type": "code",
     "collapsed": false,
     "input": [
      "verify(xkcd, winners, losers - {'fremont'} | {'fillmore'})"
     ],
     "language": "python",
     "metadata": {},
     "outputs": [
      {
       "metadata": {},
       "output_type": "pyout",
       "prompt_number": 6,
       "text": [
        "True"
       ]
      }
     ],
     "prompt_number": 6
    },
    {
     "cell_type": "markdown",
     "metadata": {},
     "source": [
      "Strategy for Finding a Regex\n",
      "----\n",
      "\n",
      "We need a strategy to find a regex that matches all the winners but none of the losers.  I came up with this approach:\n",
      "    \n",
      "- Generate a pool of component regexs (small regexs of a few characters, such as `\"bu\"` or `\"n.e\"` or `\"r.e$\"`).\n",
      "- Each component regex must match at least one winner, but no losers.\n",
      "- Our solution will be formed by \"or\"-ing together some of these components (e.g. `\"bu|n.e|j\"`).\n",
      "- This is a [set cover problem](http://en.wikipedia.org/wiki/Set_cover_problem): pick some of the components so that when we \"or\" them together they cover all the winners.\n",
      "- Set cover is an NP-hard problem, so I feel justified in using an approximation approach that finds a small but not necessarily smallest solution.\n",
      "- A good approximation can be had with a [greedy algorithm](http://en.wikipedia.org/wiki/Greedy_algorithm): Pick the \"best\" component first (the one that covers the most winners with the fewest characters), and repeat, choosing the \"best\" each time until there are no more winners to cover.\n",
      "- To guarantee that we will find a solution, make sure that each winner has at least one component that matches it, but matches no losers.\n",
      "\n",
      "Note that there are four ways in which this strategy can fail to find the shortest possible regex:\n",
      "\n",
      "- We are limiting the solution to be a disjunction: a regex of the form `\"a|b|c|...\"`.  If there is a shorter regex that is not a disjunction, we can't find it.  \n",
      "- We start with a restricted pool of components regexes.  If a best regex component is not in the pool, we can't find it.\n",
      "- The greedy algorithm is inherently sub-optimal on some inputs.  \n",
      "- The tradeoff I make between the number of winners covered by a component (more is good) and the number of characters in the component (more is bad) may be the wrong tradeoff.\n",
      "\n",
      "If the solutions end up looking bad, we can always go back and address one or more of these four issues.  \n",
      "\n",
      "The algorithm is below.  We create an initial pool with `regex_components(winners, losers)`, and will accumulate components into the list `solution`, which starts empty. On each iteration choose the best component: the one with a maximum score.  (I decided to score 4 points for each winner matched minus one point for each character in the component. The function `matches(regex, strings)` returns a set of the strings that match.)  We then add the best component to `solution`, and remove from winners all the strings that are matched by `best`.  Finally, we update the pool, keeping only those components that still match one or more of the remaining winners. When there are no more winners left, OR together all the solution components to give the final regular expression string."
     ]
    },
    {
     "cell_type": "code",
     "collapsed": false,
     "input": [
      "def findregex(winners, losers):\n",
      "    \"Find a regex that matches all winners but no losers (sets of strings).\"\n",
      "    # Make a pool of regex components, then pick from them to cover winners.\n",
      "    # On each iteration, add the 'best' component to 'solution',\n",
      "    # remove winners covered by best, and keep in 'pool' only components\n",
      "    # that still match some winner.\n",
      "    pool = regex_components(winners, losers)\n",
      "    solution = []\n",
      "    def score(r): return 4 * len(matches(r, winners)) - len(r)\n",
      "    while winners:\n",
      "        best = max(pool, key=score)\n",
      "        solution.append(best)\n",
      "        winners = winners - matches(best, winners)\n",
      "        pool = {r for r in pool if matches(r, winners)}\n",
      "    return OR(solution)"
     ],
     "language": "python",
     "metadata": {},
     "outputs": [],
     "prompt_number": 32
    },
    {
     "cell_type": "code",
     "collapsed": false,
     "input": [
      "def matches(regex, strings):\n",
      "    \"Return a set of all the strings that are matched by regex.\"\n",
      "    return {s for s in strings if re.search(regex, s)}\n",
      "\n",
      "OR = '|'.join # Join a sequence of strings with '|' between them"
     ],
     "language": "python",
     "metadata": {},
     "outputs": [],
     "prompt_number": 33
    },
    {
     "cell_type": "markdown",
     "metadata": {},
     "source": [
      "Glossary\n",
      "----\n",
      "\n",
      "In this notebook the following terminology is used:\n",
      "\n",
      "- *component:* A small regular expression, a string, such as `'bu'` or `'a.a'`.\n",
      "- *losers:* A set of strings; our solution is not allowed to match any of them.\n",
      "- *part:* A component that matches part of at least one winner.\n",
      "- *pool:* A set of components from which we will pick a subset to form the solution.\n",
      "- *regex:* A [regular expression](http://docs.python.org/2/library/re.html); a pattern used to match against a string. Both components and solutions are regular expressions.\n",
      "- *solution:* A regular expression formed by OR-ing components together: `'bu|a.a'`.  Must match winners but not losers.\n",
      "- *whole:* A component that matches a whole word (and nothing else): `'^word$'`\n",
      "- *winners:* A set of string; our solution is required to match each of them.\n",
      "    \n",
      "Regex Components\n",
      "----\n",
      "\n",
      "\n",
      "Now we need to define what the `regex_components` are.  Here's what I came up with:\n",
      "\n",
      "- For each winner, include a regex that matches the entire string exactly. I call this regex a *whole*.\n",
      "<br>Example: for `\"winner\"`, include `\"^winner$\"`\n",
      "- For each whole, generate *subparts* consisting of 1 to 4 consecutive characters.\n",
      "<br>Example: `subparts('^it$')` == `{'^', 'i', 't', '$', '^i', 'it', 't$', '^it', 'it$', '^it$'}`\n",
      "- For each subpart, generate all ways to replace any of the letters with a dot (the \"match any\" character).\n",
      "<br>Example: `dotify('it')` == `{'it', 'i.', '.t', '..'}`\n",
      "- Keep only the subparts that do not match any of the losers.\n",
      "\n",
      "Note that I only used a few of the regular expression mechanisms: `'.'`, `'^'`, and `'$'`.  I didn't try to use character classes, (e.g., `[a-z]`), nor any of the repetition operators, or other advanced mechanisms.  Why?  I wanted to keep it simple, and I thought that the advanced features take too many characters.  I can always add more complicated mechanisms later. Here is the code:"
     ]
    },
    {
     "cell_type": "code",
     "collapsed": false,
     "input": [
      "def regex_components(winners, losers):\n",
      "    \"Return components that match at least one winner, but no loser.\"\n",
      "    wholes = {'^'+winner+'$' for winner in winners}\n",
      "    parts = {d for w in wholes for s in subparts(w) for d in dotify(s)}\n",
      "    return wholes | {p for p in parts if not matches(p, losers)}\n",
      "\n",
      "def subparts(word):\n",
      "    \"Return a set of subparts of word, consecutive characters up to length 4.\"\n",
      "    return set(word[i:i+n] for i in range(len(word)) for n in (1, 2, 3, 4)) \n",
      "\n",
      "def dotify(part):\n",
      "    \"Return all ways to replace a subset of chars in part with '.'.\"\n",
      "    if part == '':\n",
      "        return {''}  \n",
      "    else:\n",
      "        return {c+rest for rest in dotify(part[1:]) \n",
      "                for c in replacements(part[0])}\n",
      "       \n",
      "def replacements(char):\n",
      "    \"Return replacement characters for char (char + '.' unless char is special).\"\n",
      "    if (char == '^' or char == '$'):\n",
      "        return char\n",
      "    else:\n",
      "        return char + '.'"
     ],
     "language": "python",
     "metadata": {},
     "outputs": [],
     "prompt_number": 34
    },
    {
     "cell_type": "markdown",
     "metadata": {},
     "source": [
      "Our program is complete!\n",
      "\n",
      "But to make sure we understand what eachof these subfunctions does, and to help us debug any problems, here's a test suite:"
     ]
    },
    {
     "cell_type": "code",
     "collapsed": false,
     "input": [
      "def test1():\n",
      "    assert subparts('^it$') == {'^', 'i', 't', '$', '^i', 'it', 't$', '^it', 'it$', '^it$'}\n",
      "    assert subparts('this') == {'t', 'h', 'i', 's', 'th', 'hi', 'is', 'thi', 'his', 'this'}\n",
      "    assert dotify('it') == {'it', 'i.', '.t', '..'}\n",
      "    assert dotify('^it$') == {'^it$', '^i.$', '^.t$', '^..$'}\n",
      "    assert dotify('this') == {'this', 'thi.', 'th.s', 'th..', 't.is', 't.i.', 't..s', 't...',\n",
      "                              '.his', '.hi.', '.h.s', '.h..', '..is', '..i.', '...s', '....'}\n",
      "    assert replacements('x') == 'x.'\n",
      "    assert replacements('^') == '^'\n",
      "    assert replacements('$') == '$'\n",
      "    assert regex_components({'win'}, {'losers', 'bin', 'won'}) == {\n",
      "        '^win$', '^win', '^wi.', 'wi.',  'wi', '^wi', 'win$', 'win', 'wi.$'}\n",
      "    assert regex_components({'win'}, {'losers', 'bin', 'won', 'wine'}) == {\n",
      "        '^win$', 'win$', 'wi.$'}\n",
      "    assert matches('a|b|c', {'a', 'b', 'c', 'd', 'e'}) == {'a', 'b', 'c'}\n",
      "    assert matches('a|b|c', {'any', 'bee', 'succeed', 'dee', 'eee!'}) == {\n",
      "        'any', 'bee', 'succeed'}\n",
      "    assert verify('a+b+', {'ab', 'aaabb'}, {'a', 'bee', 'a b'})\n",
      "    assert findregex({\"ahahah\", \"ciao\"},  {\"ahaha\", \"bye\"}) == 'a.$' \n",
      "    assert OR(['a', 'b', 'c']) == 'a|b|c'\n",
      "    assert OR(['a']) == 'a'\n",
      "    assert words('This is a TEST this is') == {'this', 'is', 'a', 'test'}\n",
      "    assert lines('Testing / 1 2 3 / Testing over') == {'TESTING', '1 2 3', 'TESTING OVER'}\n",
      "    return 'test1 passes'\n",
      "\n",
      "test1()"
     ],
     "language": "python",
     "metadata": {},
     "outputs": [
      {
       "metadata": {},
       "output_type": "pyout",
       "prompt_number": 37,
       "text": [
        "'test1 passes'"
       ]
      }
     ],
     "prompt_number": 37
    },
    {
     "cell_type": "markdown",
     "metadata": {},
     "source": [
      "Now we can finally run `findregex`, verify that it works, and compare the length of our solution to Randall's:"
     ]
    },
    {
     "cell_type": "code",
     "collapsed": false,
     "input": [
      "findregex(winners, losers)"
     ],
     "language": "python",
     "metadata": {},
     "outputs": [
      {
       "metadata": {},
       "output_type": "pyout",
       "prompt_number": 38,
       "text": [
        "'a.a|a..i|j|oo|a.t|i..o|i..n|bu|n.e|ay.|r.e$|tr|po|v.l'"
       ]
      }
     ],
     "prompt_number": 38
    },
    {
     "cell_type": "code",
     "collapsed": false,
     "input": [
      "solution = findregex(winners, losers)\n",
      "verify(solution, winners, losers)"
     ],
     "language": "python",
     "metadata": {},
     "outputs": [
      {
       "metadata": {},
       "output_type": "pyout",
       "prompt_number": 39,
       "text": [
        "True"
       ]
      }
     ],
     "prompt_number": 39
    },
    {
     "cell_type": "code",
     "collapsed": false,
     "input": [
      "print len(solution), len(xkcd)"
     ],
     "language": "python",
     "metadata": {},
     "outputs": [
      {
       "output_type": "stream",
       "stream": "stdout",
       "text": [
        "53 63\n"
       ]
      }
     ],
     "prompt_number": 41
    },
    {
     "cell_type": "markdown",
     "metadata": {},
     "source": [
      "Ours is 10 characters shorter. So we've answered the challenge in the hover text; what else can we do?\n",
      "\n",
      "Regex Golf with Arbitrary Lists\n",
      "----\n",
      "\n",
      "We can define a convenience function to do this finding and verifying, and we might as well do it in both directions (e.g. separating winners from losers and losers from winners). We will also report the number of characters in the solution and the *competitive ratio* of the solution: the ratio between the length of a trivial solution and the solution found (a trivial solution for the set of winners `{'one', 'two', 'three'}` is the disjunction `'^(one|two|three)$'`)."
     ]
    },
    {
     "cell_type": "code",
     "collapsed": false,
     "input": [
      "def findboth(A, B):\n",
      "    \"Find a regex to match A but not B, and vice-versa.  Print summary.\"\n",
      "    for (W, L, legend) in [(A, B, 'A-B'), (B, A, 'B-A')]:\n",
      "        solution = findregex(W, L)\n",
      "        assert verify(solution, W, L)\n",
      "        ratio = len('^(' + OR(W) + ')$') / float(len(solution))\n",
      "        print '%3d chars, %4.1f ratio, %2d winners %s: %r' % (\n",
      "            len(solution), ratio , len(W), legend, solution)"
     ],
     "language": "python",
     "metadata": {},
     "outputs": [],
     "prompt_number": 42
    },
    {
     "cell_type": "code",
     "collapsed": false,
     "input": [
      "findboth(winners, losers)"
     ],
     "language": "python",
     "metadata": {},
     "outputs": [
      {
       "output_type": "stream",
       "stream": "stdout",
       "text": [
        " 53 chars,  5.0 ratio, 34 winners A-B: 'a.a|a..i|j|oo|a.t|i..o|i..n|bu|n.e|ay.|r.e$|tr|po|v.l'\n",
        " 60 chars,  4.1 ratio, 34 winners B-A: '^s|^d|r.$|^.re|cc|hu|o.d|n.y|l.i|d.n$|ya|rk|oc|ss|x$|cla|^ki'"
       ]
      },
      {
       "output_type": "stream",
       "stream": "stdout",
       "text": [
        "\n"
       ]
      }
     ],
     "prompt_number": 43
    },
    {
     "cell_type": "markdown",
     "metadata": {},
     "source": [
      "Let's try the top 10 [boys and girls names](http://www.ssa.gov/oact/babynames/) for 2012:"
     ]
    },
    {
     "cell_type": "code",
     "collapsed": false,
     "input": [
      "boys  = words('jacob mason ethan noah william liam jayden michael alexander aiden')\n",
      "girls = words('sophia emma isabella olivia ava emily abigail mia madison elizabeth')\n",
      "\n",
      "findboth(boys, girls)"
     ],
     "language": "python",
     "metadata": {},
     "outputs": [
      {
       "output_type": "stream",
       "stream": "stdout",
       "text": [
        " 11 chars,  6.4 ratio, 10 winners A-B: 'e.$|a.$|a.o'\n",
        " 10 chars,  7.1 ratio, 10 winners B-A: 'a$|^..i|ad'"
       ]
      },
      {
       "output_type": "stream",
       "stream": "stdout",
       "text": [
        "\n"
       ]
      }
     ],
     "prompt_number": 16
    },
    {
     "cell_type": "markdown",
     "metadata": {},
     "source": [
      "<a href=\"http://xkcd.com/1313\"><img src=\"http://norvig.com/regex_golf2.PNG\"></a>\n",
      "\n",
      "We have now fulfilled panel two of the strip. Let's try another example, separating the 2013 NFL playoff teams from the non-playoff teams: "
     ]
    },
    {
     "cell_type": "code",
     "collapsed": false,
     "input": [
      "nfl_in = words('colts saints chargers 49ers seahawks patriots panthers broncos chiefs eagles bengals packers')\n",
      "nfl_out = words('''jets dolphins bills steelers ravens browns titans jaguars texans raiders cowboys giants \n",
      "  redskins bears lions vikings falcons buccaneers cardinals rams''')\n",
      "\n",
      "findboth(nfl_in, nfl_out)"
     ],
     "language": "python",
     "metadata": {},
     "outputs": [
      {
       "output_type": "stream",
       "stream": "stdout",
       "text": [
        " 24 chars,  4.0 ratio, 12 winners A-B: '^p|g..s|4|nc|lt|fs|wk|sa'\n",
        " 21 chars,  7.3 ratio, 20 winners B-A: 'ns|^.i|d|j|ee|y|m|ars'"
       ]
      },
      {
       "output_type": "stream",
       "stream": "stdout",
       "text": [
        "\n"
       ]
      }
     ],
     "prompt_number": 17
    },
    {
     "cell_type": "markdown",
     "metadata": {},
     "source": [
      "And separating the top ten best-selling drugs from the top 10 cities to visit:"
     ]
    },
    {
     "cell_type": "code",
     "collapsed": false,
     "input": [
      "drugs = words('lipitor nexium plavix advair ablify seroquel singulair crestor actos epogen')\n",
      "cities = words('paris trinidad capetown riga zurich shanghai vancouver chicago adelaide auckland')\n",
      "\n",
      "findboth(drugs, cities)"
     ],
     "language": "python",
     "metadata": {},
     "outputs": [
      {
       "output_type": "stream",
       "stream": "stdout",
       "text": [
        " 15 chars,  5.3 ratio, 10 winners A-B: 'o.$|x|ir|b|q|en'\n",
        " 11 chars,  7.6 ratio, 10 winners B-A: 'ri|an|ca|id'"
       ]
      },
      {
       "output_type": "stream",
       "stream": "stdout",
       "text": [
        "\n"
       ]
      }
     ],
     "prompt_number": 18
    },
    {
     "cell_type": "markdown",
     "metadata": {},
     "source": [
      "<a href=\"http://xkcd.com/1313\"><img src=\"http://norvig.com/regex_golf1.PNG\"></a>\n",
      "\n",
      "We can answer the challenge from panel one of the strip:"
     ]
    },
    {
     "cell_type": "code",
     "collapsed": false,
     "input": [
      "def lines(text): return {line.upper().strip() for line in text.split('/')}\n",
      "\n",
      "starwars = lines('''The Phantom Menace / Attack of the Clones / Revenge of the Sith /\n",
      "A New Hope / The Empire Strikes Back / Return of the Jedi''')\n",
      "\n",
      "startrek = lines('''The Wrath of Khan / The Search for Spock / The Voyage Home /\n",
      "The Final Frontier / The Undiscovered Country / Generations / First Contact /\n",
      "Insurrection / Nemesis''')\n",
      "\n",
      "findboth(starwars, startrek)"
     ],
     "language": "python",
     "metadata": {},
     "outputs": [
      {
       "output_type": "stream",
       "stream": "stdout",
       "text": [
        "  9 chars, 13.0 ratio,  6 winners A-B: ' T|E.P| N'\n",
        " 13 chars, 11.5 ratio,  9 winners B-A: 'ER|CT|H |Y|IS'"
       ]
      },
      {
       "output_type": "stream",
       "stream": "stdout",
       "text": [
        "\n"
       ]
      }
     ],
     "prompt_number": 19
    },
    {
     "cell_type": "markdown",
     "metadata": {},
     "source": [
      "Neat&mdash;the solution `' T|E.P| N'` is one character shorter than Randall's.  This solution is equivalent to `'E.P| [TN]'`, so it shares the `' [TN]'` component.  You can see why I didn't bother to put character classes (like `[TN]`) in my pool of regex components:  `' T| N'` is the same nunber of characters as `' [TN]'`.\n",
      "\n",
      "We can verify that Randall's solution is correct:"
     ]
    },
    {
     "cell_type": "code",
     "collapsed": false,
     "input": [
      "verify('M | [TN]|B', starwars, startrek)"
     ],
     "language": "python",
     "metadata": {},
     "outputs": [
      {
       "metadata": {},
       "output_type": "pyout",
       "prompt_number": 20,
       "text": [
        "True"
       ]
      }
     ],
     "prompt_number": 20
    },
    {
     "cell_type": "markdown",
     "metadata": {},
     "source": [
      "There are lots of examples to play with over at [regex.alf.nu](http://regex.alf.nu), like this one:"
     ]
    },
    {
     "cell_type": "code",
     "collapsed": false,
     "input": [
      "foo = words('''afoot catfoot dogfoot fanfoot foody foolery foolish fooster \n",
      "    footage foothot footle footpad footway hotfoot jawfoot mafoo nonfood padfoot \n",
      "    prefool sfoot unfool''')\n",
      "\n",
      "bar = words('''Atlas Aymoro Iberic Mahran Ormazd Silipan altared chandoo crenel \n",
      "    crooked fardo folksy forest hebamic idgah manlike marly palazzi sixfold \n",
      "    tarrock unfold''')\n",
      "\n",
      "findboth(foo, bar)"
     ],
     "language": "python",
     "metadata": {},
     "outputs": [
      {
       "output_type": "stream",
       "stream": "stdout",
       "text": [
        "  3 chars, 53.7 ratio, 21 winners A-B: 'f.o'\n",
        " 28 chars,  5.5 ratio, 21 winners B-A: 'r..$|k|.m|^..l|ld|...n|ga|es'"
       ]
      },
      {
       "output_type": "stream",
       "stream": "stdout",
       "text": [
        "\n"
       ]
      }
     ],
     "prompt_number": 21
    },
    {
     "cell_type": "markdown",
     "metadata": {},
     "source": [
      "I assume that one is intended to find `'foo'`, not `'f.o'`.  My solution might be the same number of characters, 3, but it is smaller in the amount of ink/pixels it uses.\n",
      "\n",
      "\n",
      "\n",
      "What To Do Next?  \n",
      "----\n",
      "\n",
      "I see three options:\n",
      "\n",
      "- Stop here and declare victory! *Yay!*\n",
      "- Try to make the program run faster (so that it can handle bigger sets of winners and losers).  \n",
      "- Try to find shorter regexes.\n",
      "\n",
      "My first inclination was \"stop here\", and that's what this notebook will do (a few paragraphs from now). But several correspondents offered very interesting suggestions, so I returned to the problem in [a second notebook](http://nbviewer.ipython.org/url/norvig.com/ipython/xkcd1313-part2.ipynb?create=1). You'll see some tricks for making code run faster, and some new algorithms to find better (shorter) regexes.\n",
      "\n",
      "Summary\n",
      "---\n",
      "\n",
      "That was fun! I hope this page gives you an idea of how to think about problems like this. Let's review what we did:\n",
      "\n",
      "- Found an interesting problem (in a comic strip) and realized that it would not be hard to write a program to solve the problem.\n",
      "- Wrote the function `verify` to prove that we really understand exactly what the problem is.\n",
      "- Came up with an approach: create lots of component regexes, and \"or\" together a subset of them.\n",
      "- Realized that this is an instance of a known problem, *set cover*.\n",
      "- Since set cover is computationally expensive, decide to use a *greedy algorithm*, which will be efficient (although not optimal).\n",
      "- Decided what goes into the pool of component regexes (see the function `component_regexes`).\n",
      "- Implemented an algorithm to greedily pick components from the pool (the function `findregex`).\n",
      "- Tried the algorithm on some examples.\n",
      "- Declared victory!\n",
      "\n",
      "    \n",
      "Thanks\n",
      "----\n",
      "\n",
      "Thanks to [Randall Monroe](http://xkcd.com/) for inspiring me to do this, to [regex.alf.nu](regex.alf.nu) for inspiring Randall to do his strip, and to [Davide Canton](https://plus.sandbox.google.com/108324296451294887432/posts), [Thomas Breuel](https://plus.google.com/118190679520611168174/posts), and [Stefan Pochmann](http://www.stefan-pochmann.info/spocc/) for providing suggestions to improve my code.\n",
      "\n",
      "Complete Program\n",
      "---\n",
      "\n",
      "Here is the complete program (without the data; you can apply it to any sets of strings you want):"
     ]
    },
    {
     "cell_type": "code",
     "collapsed": false,
     "input": [
      "import re\n",
      "\n",
      "def verify(regex, winners, losers):\n",
      "    \"Return true iff the regex matches all winners but no losers.\"\n",
      "    missed_winners = {W for W in winners if not re.search(regex, W)}\n",
      "    matched_losers = {L for L in losers if re.search(regex, L)}\n",
      "    if missed_winners:\n",
      "        print \"Error: should match but did not:\", ', '.join(missed_winners)\n",
      "    if matched_losers:\n",
      "        print \"Error: should not match but did:\", ', '.join(matched_losers)\n",
      "    return not (missed_winners or matched_losers)\n",
      "\n",
      "def findregex(winners, losers):\n",
      "    \"Find a regex that matches all winners but no losers (sets of strings).\"\n",
      "    # Make a pool of regex components, then pick from them to cover winners.\n",
      "    # On each iteration, add the 'best' component to 'solution',\n",
      "    # remove winners covered by best, and keep in 'pool' only components\n",
      "    # that still match some winner.\n",
      "    pool = regex_components(winners, losers)\n",
      "    solution = []\n",
      "    def score(r): return 4 * len(matches(r, winners)) - len(r)\n",
      "    while winners:\n",
      "        best = max(pool, key=score)\n",
      "        solution.append(best)\n",
      "        winners = winners - matches(best, winners)\n",
      "        pool = {r for r in pool if matches(r, winners)}\n",
      "    return OR(solution)\n",
      "\n",
      "def matches(regex, strings):\n",
      "    \"Return a set of all the strings that are matched by regex.\"\n",
      "    return {s for s in strings if re.search(regex, s)}\n",
      "\n",
      "OR = '|'.join # Join a sequence of strings with '|' between them\n",
      "\n",
      "def regex_components(winners, losers):\n",
      "    \"Return components that match at least one winner, but no loser.\"\n",
      "    wholes = {'^'+winner+'$' for winner in winners}\n",
      "    parts = {d for w in wholes for s in subparts(w) for d in dotify(s)}\n",
      "    return wholes | {p for p in parts if not matches(p, losers)}\n",
      "\n",
      "def subparts(word):\n",
      "    \"Return a set of subparts of word, consecutive characters up to length 4.\"\n",
      "    return set(word[i:i+n] for i in range(len(word)) for n in (1, 2, 3, 4)) \n",
      "\n",
      "def dotify(part):\n",
      "    \"Return all ways to replace a subset of chars in part with '.'.\"\n",
      "    if part == '':\n",
      "        return {''}  \n",
      "    else:\n",
      "        return {c+rest for rest in dotify(part[1:]) \n",
      "                for c in replacements(part[0])}\n",
      "       \n",
      "def replacements(char):\n",
      "    \"Return replacement characters for char (char + '.' unless char is special).\"\n",
      "    if (char == '^' or char == '$'):\n",
      "        return char\n",
      "    else:\n",
      "        return char + '.'\n",
      "    \n",
      "def words(text): return set(text.lower().split())\n",
      "\n",
      "def lines(text): return {line.upper().strip() for line in text.split('/')}\n",
      "\n",
      "################ Data\n",
      "\n",
      "winners = words('''washington adams jefferson jefferson madison madison monroe \n",
      "    monroe adams jackson jackson van-buren harrison polk taylor pierce buchanan \n",
      "    lincoln lincoln grant grant hayes garfield cleveland harrison cleveland mckinley\n",
      "    mckinley roosevelt taft wilson wilson harding coolidge hoover roosevelt \n",
      "    roosevelt roosevelt roosevelt truman eisenhower eisenhower kennedy johnson nixon \n",
      "    nixon carter reagan reagan bush clinton clinton bush bush obama obama''')\n",
      "\n",
      "losers = words('''clinton jefferson adams pinckney pinckney clinton king adams \n",
      "    jackson adams clay van-buren van-buren clay cass scott fremont breckinridge \n",
      "    mcclellan seymour greeley tilden hancock blaine cleveland harrison bryan bryan \n",
      "    parker bryan roosevelt hughes cox davis smith hoover landon wilkie dewey dewey \n",
      "    stevenson stevenson nixon goldwater humphrey mcgovern ford carter mondale \n",
      "    dukakis bush dole gore kerry mccain romney''')\n",
      "\n",
      "starwars = lines('''The Phantom Menace / Attack of the Clones / Revenge of the Sith /\n",
      "    A New Hope / The Empire Strikes Back / Return of the Jedi''')\n",
      "\n",
      "startrek = lines('''The Wrath of Khan / The Search for Spock / The Voyage Home /\n",
      "    The Final Frontier / The Undiscovered Country / Generations / First Contact /\n",
      "    Insurrection / Nemesis''')\n",
      "\n",
      "def findboth(A, B):\n",
      "    \"Find a regex to match A but not B, and vice-versa.  Print summary.\"\n",
      "    for (W, L, legend) in [(A, B, 'A-B'), (B, A, 'B-A')]:\n",
      "        solution = findregex(W, L)\n",
      "        assert verify(solution, W, L)\n",
      "        ratio = len('^(' + OR(W) + ')$') / float(len(solution))\n",
      "        print '%3d chars, %4.1f ratio, %2d winners %s: %r' % (\n",
      "            len(solution), ratio , len(W), legend, solution)\n",
      "        \n",
      "################ Tests\n",
      "        \n",
      "def test1():\n",
      "    assert subparts('^it$') == {'^', 'i', 't', '$', '^i', 'it', 't$', '^it', 'it$', '^it$'}\n",
      "    assert subparts('this') == {'t', 'h', 'i', 's', 'th', 'hi', 'is', 'thi', 'his', 'this'}\n",
      "    assert dotify('it') == {'it', 'i.', '.t', '..'}\n",
      "    assert dotify('^it$') == {'^it$', '^i.$', '^.t$', '^..$'}\n",
      "    assert dotify('this') == {'this', 'thi.', 'th.s', 'th..', 't.is', 't.i.', 't..s', 't...',\n",
      "                              '.his', '.hi.', '.h.s', '.h..', '..is', '..i.', '...s', '....'}\n",
      "    assert replacements('x') == 'x.'\n",
      "    assert replacements('^') == '^'\n",
      "    assert replacements('$') == '$'\n",
      "    assert regex_components({'win'}, {'losers', 'bin', 'won'}) == {\n",
      "        '^win$', '^win', '^wi.', 'wi.',  'wi', '^wi', 'win$', 'win', 'wi.$'}\n",
      "    assert regex_components({'win'}, {'losers', 'bin', 'won', 'wine'}) == {\n",
      "        '^win$', 'win$', 'wi.$'}\n",
      "    assert matches('a|b|c', {'a', 'b', 'c', 'd', 'e'}) == {'a', 'b', 'c'}\n",
      "    assert matches('a|b|c', {'any', 'bee', 'succeed', 'dee', 'eee!'}) == {\n",
      "        'any', 'bee', 'succeed'}\n",
      "    assert verify('a+b+', {'ab', 'aaabb'}, {'a', 'bee', 'a b'})\n",
      "    assert findregex({\"ahahah\", \"ciao\"},  {\"ahaha\", \"bye\"}) == 'a.$' \n",
      "    assert OR(['a', 'b', 'c']) == 'a|b|c'\n",
      "    assert OR(['a']) == 'a'\n",
      "    assert words('This is a TEST this is') == {'this', 'is', 'a', 'test'}\n",
      "    assert lines('Testing / 1 2 3 / Testing over') == {'TESTING', '1 2 3', 'TESTING OVER'}\n",
      "    return 'test1 passes'\n",
      "\n",
      "if __name__ == '__main__':\n",
      "    print test1()"
     ],
     "language": "python",
     "metadata": {},
     "outputs": [
      {
       "output_type": "stream",
       "stream": "stdout",
       "text": [
        "test passes\n"
       ]
      }
     ],
     "prompt_number": 26
    },
    {
     "cell_type": "markdown",
     "metadata": {},
     "source": [
      "\n",
      "<hr>\n",
      "[*Peter Norvig*](http://norvig.com), Jan. 2014"
     ]
    }
   ],
   "metadata": {}
  }
 ]
}